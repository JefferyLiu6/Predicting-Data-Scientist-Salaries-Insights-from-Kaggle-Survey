{
 "cells": [
  {
   "cell_type": "markdown",
   "id": "304221fb",
   "metadata": {},
   "source": [
    "## **Data Loading & Libraries**"
   ]
  },
  {
   "cell_type": "code",
   "execution_count": 52,
   "id": "3a6b3fb6",
   "metadata": {
    "id": "3a6b3fb6"
   },
   "outputs": [],
   "source": [
    "import pandas as pd\n",
    "import numpy as np\n",
    "from random import *\n",
    "import seaborn as sns\n",
    "import matplotlib.pyplot as plt\n",
    "\n",
    "%matplotlib inline\n",
    "\n",
    "from sklearn.model_selection import train_test_split\n",
    "from sklearn.linear_model import LogisticRegression\n",
    "import warnings\n",
    "\n",
    "# Suppress warnings for cleaner notebook outputs\n",
    "warnings.filterwarnings(\"ignore\")"
   ]
  },
  {
   "cell_type": "code",
   "execution_count": 53,
   "id": "eU5JU8itP0_z",
   "metadata": {
    "colab": {
     "base_uri": "https://localhost:8080/"
    },
    "id": "eU5JU8itP0_z",
    "outputId": "69ed5eb5-2ca7-4c9b-a0e0-a92c8e65babe"
   },
   "outputs": [
    {
     "data": {
      "text/plain": [
       "(8137, 298)"
      ]
     },
     "execution_count": 53,
     "metadata": {},
     "output_type": "execute_result"
    }
   ],
   "source": [
    "# Load the cleaned dataset\n",
    "salaries = pd.read_csv(\"./clean_kaggle_data_2022.csv\", low_memory = False, encoding = 'latin2')\n",
    "salaries.shape"
   ]
  },
  {
   "cell_type": "markdown",
   "id": "8fe380c8",
   "metadata": {},
   "source": [
    "## **Data Cleaning & Preprocessing**"
   ]
  },
  {
   "cell_type": "markdown",
   "id": "vmW4hFRRTSbX",
   "metadata": {
    "id": "vmW4hFRRTSbX"
   },
   "source": [
    "- Dropping Q5 since there is only one type of *response* ('No')\n",
    "- Dropping Q26 since there are date which are irrelevant to the question itself"
   ]
  },
  {
   "cell_type": "code",
   "execution_count": 54,
   "id": "pif4yLmyRGW3",
   "metadata": {
    "colab": {
     "base_uri": "https://localhost:8080/"
    },
    "id": "pif4yLmyRGW3",
    "outputId": "656a960d-beb0-4cbc-918b-62030ca0a3d1"
   },
   "outputs": [
    {
     "name": "stdout",
     "output_type": "stream",
     "text": [
      "['Are you currently a student? (high school, university, or graduate)'\n",
      " 'No']\n",
      "['Approximately how many individuals are responsible for data science workloads at your place of business?'\n",
      " '2-Jan' '20+' '4-Mar' '9-May' '0' '14-Oct' '15-19']\n"
     ]
    }
   ],
   "source": [
    "print(salaries['Q5'].unique())\n",
    "print(salaries['Q26'].unique())"
   ]
  },
  {
   "cell_type": "code",
   "execution_count": 55,
   "id": "8SgfwyLUa2Ad",
   "metadata": {
    "colab": {
     "base_uri": "https://localhost:8080/"
    },
    "id": "8SgfwyLUa2Ad",
    "outputId": "f25499ff-c033-429a-cc47-60ba346fb056"
   },
   "outputs": [
    {
     "data": {
      "text/plain": [
       "(8136, 274)"
      ]
     },
     "execution_count": 55,
     "metadata": {},
     "output_type": "execute_result"
    }
   ],
   "source": [
    "def CleanData(df):\n",
    "    # Drop the first row (question details)\n",
    "    if df.shape[0] > 8136:\n",
    "      df.drop(df.index[0], inplace=True)\n",
    "\n",
    "    # Drop irrelevant columns, adjust this list as needed based on analysis\n",
    "    irrelevant_columns = ['Duration (in seconds)','Q5','Q7_1','Q7_2','Q7_3','Q7_4','Q7_5','Q7_6','Q7_7','Q13_1','Q13_2','Q13_3','Q13_4','Q13_5','Q13_6','Q13_7','Q13_8','Q13_9','Q13_10','Q13_11','Q13_12','Q13_13','Q13_14','Q26'] # Drop Q5 coz only no is the answer\n",
    "    df.drop(columns=irrelevant_columns, inplace=True, errors='ignore')\n",
    "\n",
    "    # Reset the index after dropping rows/columns\n",
    "    df.reset_index(drop=True, inplace=True)\n",
    "\n",
    "    # Convert columns to numeric where possible (for numerical analysis)\n",
    "    for col in df.columns:\n",
    "        df[col] = pd.to_numeric(df[col], errors='ignore')\n",
    "\n",
    "    return df\n",
    "\n",
    "# Apply the function to clean the dataset\n",
    "salaries = CleanData(salaries)\n",
    "salaries.shape\n"
   ]
  },
  {
   "cell_type": "markdown",
   "id": "ldUpFyEtUPNy",
   "metadata": {
    "id": "ldUpFyEtUPNy"
   },
   "source": [
    "Replacing rare-values in question Q23"
   ]
  },
  {
   "cell_type": "code",
   "execution_count": 56,
   "id": "khb3HPJ6UW_Z",
   "metadata": {
    "colab": {
     "base_uri": "https://localhost:8080/"
    },
    "id": "khb3HPJ6UW_Z",
    "outputId": "2b55b2dc-61a2-4ff6-d8ce-6d6f75c98e58"
   },
   "outputs": [
    {
     "data": {
      "text/plain": [
       "array(['Data Scientist', 'Software Engineer', 'Research Scientist',\n",
       "       'Developer Advocate',\n",
       "       'Data Analyst (Business, Marketing, Financial, Quantitative, etc)',\n",
       "       'Data Engineer', 'Other', 'Machine Learning/ MLops Engineer',\n",
       "       'Engineer (non-software)', 'Teacher / professor',\n",
       "       'Manager (Program, Project, Operations, Executive-level, etc)',\n",
       "       'Statistician', 'Data Administrator', 'Data Architect'],\n",
       "      dtype=object)"
      ]
     },
     "execution_count": 56,
     "metadata": {},
     "output_type": "execute_result"
    }
   ],
   "source": [
    "salaries['Q23'].unique()"
   ]
  },
  {
   "cell_type": "markdown",
   "id": "8ef28f3c",
   "metadata": {},
   "source": [
    "## **Rare Value Replacement Function**"
   ]
  },
  {
   "cell_type": "code",
   "execution_count": 57,
   "id": "ij1tM9Jg-ts3",
   "metadata": {
    "id": "ij1tM9Jg-ts3"
   },
   "outputs": [],
   "source": [
    "def replace_rare_values(df, column_name, threshold):\n",
    "\n",
    "    # Count the occurrences of each unique value in the column\n",
    "    value_counts = df[column_name].value_counts()\n",
    "\n",
    "    # Identify values that appear less than the threshold\n",
    "    rare_values = value_counts.index[value_counts < threshold]\n",
    "\n",
    "    # Create a mask for rows containing these rare values and replace them with 'Other'\n",
    "    df.loc[df[column_name].isin(rare_values), column_name] = \"Other\"\n",
    "\n",
    "    return df\n",
    "\n",
    "#salaries = replace_rare_values(salaries, 'Q8', 50)\n",
    "#salaries = replace_rare_values(salaries, 'Q4', 50)\n",
    "salaries = replace_rare_values(salaries, 'Q23', 50)"
   ]
  },
  {
   "cell_type": "markdown",
   "id": "kswVTQwc5xeV",
   "metadata": {
    "id": "kswVTQwc5xeV"
   },
   "source": [
    "### **Impute missing values (single column responses)**\n",
    "\n",
    "1. Identify columns with single column responses\n",
    "\n",
    "2. Address missing values in those columns"
   ]
  },
  {
   "cell_type": "code",
   "execution_count": 58,
   "id": "ioWJBrxDovbI",
   "metadata": {
    "colab": {
     "base_uri": "https://localhost:8080/"
    },
    "id": "ioWJBrxDovbI",
    "outputId": "8163a730-f10a-424f-bcc5-879e786ac23b"
   },
   "outputs": [
    {
     "name": "stdout",
     "output_type": "stream",
     "text": [
      "Dropped 4 columns with more than 30% missing values.\n",
      "dropped ['Q9', 'Q22', 'Q32', 'Q43']\n",
      "Percentage of null values before imputation:\n",
      "Q2             0.000000\n",
      "Q3             0.000000\n",
      "Q4             0.000000\n",
      "Q8             0.000000\n",
      "Q11            0.000000\n",
      "Q16            8.407080\n",
      "Q23            0.000000\n",
      "Q24            0.000000\n",
      "Q25            0.000000\n",
      "Q27            0.000000\n",
      "Q29            0.000000\n",
      "Q30            0.614553\n",
      "Q29_Encoded    0.000000\n",
      "dtype: float64\n",
      "Percentage of null values after imputation (should be zero):\n",
      "Q2             0.0\n",
      "Q3             0.0\n",
      "Q4             0.0\n",
      "Q8             0.0\n",
      "Q11            0.0\n",
      "Q16            0.0\n",
      "Q23            0.0\n",
      "Q24            0.0\n",
      "Q25            0.0\n",
      "Q27            0.0\n",
      "Q29            0.0\n",
      "Q30            0.0\n",
      "Q29_Encoded    0.0\n",
      "dtype: float64\n"
     ]
    }
   ],
   "source": [
    "def ImputingSingleColMissingValues(df):\n",
    "    # Identify single-column names that need imputing, including the target column\n",
    "    single_col_names = [col for col in df.columns if '_' not in col or col == 'Q29_Encoded']\n",
    "\n",
    "    # Calculate missing value percentages for single-column responses\n",
    "    missing_percentages = df[single_col_names].isnull().mean()\n",
    "\n",
    "    # Drop columns with more than 30% missing values\n",
    "    high_missing_cols = missing_percentages[missing_percentages > 0.3].index.tolist()\n",
    "    df.drop(columns=high_missing_cols, inplace=True)\n",
    "    print(f\"Dropped {len(high_missing_cols)} columns with more than 30% missing values.\")\n",
    "    print(f\"dropped {high_missing_cols}\")\n",
    "\n",
    "    # Recalculate single_col_names after dropping high-missing columns\n",
    "    single_col_names = [col for col in df.columns if col in single_col_names]\n",
    "\n",
    "    print(\"Percentage of null values before imputation:\")\n",
    "    print(df[single_col_names].isnull().sum() * 100 / len(df))\n",
    "\n",
    "    # Address missing values in remaining single-column responses\n",
    "    for col in single_col_names:\n",
    "        if df[col].dtype == 'object':\n",
    "            df[col].fillna(\"Unknown\", inplace=True)\n",
    "        else:\n",
    "            df[col].fillna(df[col].median(), inplace=True)\n",
    "\n",
    "    print(\"Percentage of null values after imputation (should be zero):\")\n",
    "    print(df[single_col_names].isnull().sum() * 100 / len(df))\n",
    "    assert df[single_col_names].isnull().values.sum() == 0, \\\n",
    "        \"There are still missing values remaining!\"\n",
    "\n",
    "    return df\n",
    "\n",
    "# Apply the function to clean the dataset\n",
    "salaries = ImputingSingleColMissingValues(salaries)\n"
   ]
  },
  {
   "cell_type": "markdown",
   "id": "_p3uIiOS-nV4",
   "metadata": {
    "id": "_p3uIiOS-nV4"
   },
   "source": [
    "### **Encode categorical features (sinlge column responses)**"
   ]
  },
  {
   "cell_type": "markdown",
   "id": "rWzVSAjd4bEX",
   "metadata": {
    "id": "rWzVSAjd4bEX"
   },
   "source": [
    "The code below is to create a new feature based on the average tech salaries for each countries. As the encoding in this part will affect my features creation, I moved it from part 2 to here."
   ]
  },
  {
   "cell_type": "code",
   "execution_count": 59,
   "id": "Y-08_Z_KHUfl",
   "metadata": {
    "colab": {
     "base_uri": "https://localhost:8080/",
     "height": 204
    },
    "id": "Y-08_Z_KHUfl",
    "outputId": "72fb4931-1b35-4076-af43-c4c291af4b2f"
   },
   "outputs": [
    {
     "data": {
      "text/html": [
       "<div>\n",
       "<style scoped>\n",
       "    .dataframe tbody tr th:only-of-type {\n",
       "        vertical-align: middle;\n",
       "    }\n",
       "\n",
       "    .dataframe tbody tr th {\n",
       "        vertical-align: top;\n",
       "    }\n",
       "\n",
       "    .dataframe thead th {\n",
       "        text-align: right;\n",
       "    }\n",
       "</style>\n",
       "<table border=\"1\" class=\"dataframe\">\n",
       "  <thead>\n",
       "    <tr style=\"text-align: right;\">\n",
       "      <th></th>\n",
       "      <th>Q4</th>\n",
       "      <th>Country_Salary_Rank</th>\n",
       "    </tr>\n",
       "  </thead>\n",
       "  <tbody>\n",
       "    <tr>\n",
       "      <th>0</th>\n",
       "      <td>France</td>\n",
       "      <td>7.0</td>\n",
       "    </tr>\n",
       "    <tr>\n",
       "      <th>1</th>\n",
       "      <td>Germany</td>\n",
       "      <td>8.0</td>\n",
       "    </tr>\n",
       "    <tr>\n",
       "      <th>2</th>\n",
       "      <td>Australia</td>\n",
       "      <td>9.0</td>\n",
       "    </tr>\n",
       "    <tr>\n",
       "      <th>3</th>\n",
       "      <td>United States of America</td>\n",
       "      <td>10.0</td>\n",
       "    </tr>\n",
       "    <tr>\n",
       "      <th>4</th>\n",
       "      <td>United States of America</td>\n",
       "      <td>10.0</td>\n",
       "    </tr>\n",
       "  </tbody>\n",
       "</table>\n",
       "</div>"
      ],
      "text/plain": [
       "                         Q4  Country_Salary_Rank\n",
       "0                    France                  7.0\n",
       "1                   Germany                  8.0\n",
       "2                 Australia                  9.0\n",
       "3  United States of America                 10.0\n",
       "4  United States of America                 10.0"
      ]
     },
     "execution_count": 59,
     "metadata": {},
     "output_type": "execute_result"
    }
   ],
   "source": [
    "salary_mapping = {\n",
    "    # Countries with average tech salaries above $100,000\n",
    "    'United States of America': 10,\n",
    "    'Switzerland': 10,\n",
    "    'Australia': 9,\n",
    "    'Israel': 9,\n",
    "    'Denmark': 9,\n",
    "    'Norway': 9,\n",
    "\n",
    "    # Countries with average tech salaries between $80,000 and $100,000\n",
    "    'Canada': 8,\n",
    "    'United Kingdom': 8,\n",
    "    'Germany': 8,\n",
    "    'Netherlands': 8,\n",
    "    'Sweden': 8,\n",
    "    'Finland': 8,\n",
    "\n",
    "    # Countries with average tech salaries between $60,000 and $80,000\n",
    "    'France': 7,\n",
    "    'Ireland': 7,\n",
    "    'Belgium': 7,\n",
    "    'Singapore': 7,\n",
    "    'New Zealand': 7,\n",
    "\n",
    "    # Countries with average tech salaries between $40,000 and $60,000\n",
    "    'Japan': 6,\n",
    "    'South Korea': 6,\n",
    "    'Italy': 6,\n",
    "    'Spain': 6,\n",
    "    'Portugal': 6,\n",
    "\n",
    "    # Countries with average tech salaries between $20,000 and $40,000\n",
    "    'Brazil': 5,\n",
    "    'Argentina': 5,\n",
    "    'Chile': 5,\n",
    "    'China': 5,\n",
    "    'Malaysia': 5,\n",
    "    'Russia': 5,\n",
    "    'Turkey': 5,\n",
    "    'South Africa': 5,\n",
    "    'Romania': 5,\n",
    "    'Mexico': 5,\n",
    "    'Colombia': 5,\n",
    "    'Iran': 5,\n",
    "\n",
    "    # Countries with average tech salaries between $10,000 and $20,000\n",
    "    'India': 4,\n",
    "    'Indonesia': 4,\n",
    "    'Philippines': 4,\n",
    "    'Pakistan': 4,\n",
    "    'Egypt': 4,\n",
    "    'Nigeria': 4,\n",
    "    'Vietnam': 4,\n",
    "    'Bangladesh': 4,\n",
    "    'Kenya': 4,\n",
    "    'Ghana': 4,\n",
    "    'Cameroon': 4,\n",
    "    'Morocco': 4,\n",
    "    'Sri Lanka': 4,\n",
    "    'Ukraine': 4,\n",
    "    'Algeria': 4,\n",
    "\n",
    "    # Countries with average tech salaries below $10,000\n",
    "    'Ethiopia': 3,\n",
    "    'Zimbabwe': 3,\n",
    "    'Nepal': 3,\n",
    "    'Uganda': 3,\n",
    "\n",
    "    # Special cases\n",
    "    'Other': 2,\n",
    "    'I do not wish to disclose my location': 2\n",
    "}\n",
    "\n",
    "# Assuming 'Q4' is the column with country names in the 'salaries' DataFrame\n",
    "salaries['Country_Salary_Rank'] = salaries['Q4'].map(salary_mapping)\n",
    "\n",
    "# Display the updated DataFrame with the new column\n",
    "salaries[['Q4', 'Country_Salary_Rank']].head()\n"
   ]
  },
  {
   "cell_type": "markdown",
   "id": "XgRU_7koFg2M",
   "metadata": {
    "id": "XgRU_7koFg2M"
   },
   "source": [
    "Sources:\n",
    "https://smartdataweek.com/article/average-software-developer-salaries-salary-comparison-by-country\n",
    "\n",
    "https://smartdataweek.com/article/average-software-engineering-salaries-by-country-in-2022\n",
    "\n",
    "https://qubit-labs.com/average-software-developer-salaries-salary-comparison-country/\n",
    "\n",
    "https://codesubmit.io/blog/software-engineer-salary-by-country/"
   ]
  },
  {
   "cell_type": "markdown",
   "id": "AXOtsCrp4-q7",
   "metadata": {
    "id": "AXOtsCrp4-q7"
   },
   "source": [
    "Same as the above, The code is to create a new feature based on the average job salaries for each job title."
   ]
  },
  {
   "cell_type": "code",
   "execution_count": 60,
   "id": "6DSfinojV31J",
   "metadata": {
    "colab": {
     "base_uri": "https://localhost:8080/"
    },
    "id": "6DSfinojV31J",
    "outputId": "dd5d5923-1203-4895-dfc3-937eb62d18ac"
   },
   "outputs": [
    {
     "name": "stdout",
     "output_type": "stream",
     "text": [
      "[95. 90. 85. 80. nan 92. 70. 88. 78. 72. 96.]\n"
     ]
    }
   ],
   "source": [
    "# Job salary mapping\n",
    "job_salary_mapping = {\n",
    "    'Data Scientist': 95,\n",
    "    'Software Engineer': 90,\n",
    "    'Research Scientist': 85,\n",
    "    'Developer Advocate': 80,\n",
    "    'Data Analyst': 75,\n",
    "    'Data Engineer': 92,\n",
    "    'Other': 70,\n",
    "    'Machine Learning/MLops Engineer': 98,\n",
    "    'Engineer (non-software)': 88,\n",
    "    'Teacher / Professor': 70,\n",
    "    'Manager': 100,\n",
    "    'Statistician': 78,\n",
    "    'Data Administrator': 72,\n",
    "    'Data Architect': 96\n",
    "}\n",
    "\n",
    "# Map the job titles in 'Q23' to the rankings in job_salary_mapping\n",
    "salaries['Job_Salary_Rank'] = salaries['Q23'].map(job_salary_mapping)\n",
    "\n",
    "# Display the DataFrame to verify the new column\n",
    "print(salaries['Job_Salary_Rank'].unique())\n"
   ]
  },
  {
   "cell_type": "code",
   "execution_count": 61,
   "id": "w_-lZ8rfXfpH",
   "metadata": {
    "colab": {
     "base_uri": "https://localhost:8080/"
    },
    "id": "w_-lZ8rfXfpH",
    "outputId": "9d26dde7-a18b-4c56-8adf-a6aa8bbd3299"
   },
   "outputs": [
    {
     "data": {
      "text/plain": [
       "array([95., 90., 85., 80., nan, 92., 70., 88., 78., 72., 96.])"
      ]
     },
     "execution_count": 61,
     "metadata": {},
     "output_type": "execute_result"
    }
   ],
   "source": [
    "salaries['Job_Salary_Rank'].unique()"
   ]
  },
  {
   "cell_type": "markdown",
   "id": "enwOXNkpWSy2",
   "metadata": {
    "id": "enwOXNkpWSy2"
   },
   "source": [
    "Sources:\n",
    "\n",
    "https://www.ons.gov.uk/employmentandlabourmarket/peopleinwork/earningsandworkinghours/datasets/grossweeklyearningsbyoccupationearn06\n",
    "\n",
    "https://www.bridgewateruk.com/2022/01/average-uk-salary-2022-by-profession/\n",
    "\n",
    "https://www.totaljobs.com/salary-checker/salary-calculator\n",
    "\n"
   ]
  },
  {
   "cell_type": "code",
   "execution_count": 62,
   "id": "LeZW01BFHWn_",
   "metadata": {
    "colab": {
     "base_uri": "https://localhost:8080/",
     "height": 453
    },
    "id": "LeZW01BFHWn_",
    "outputId": "d9639813-3339-4ada-9605-458bc43e4997"
   },
   "outputs": [
    {
     "data": {
      "text/plain": [
       "Q2                        0\n",
       "Q3                        0\n",
       "Q4                        0\n",
       "Q6_1                   4374\n",
       "Q6_2                   7018\n",
       "                       ... \n",
       "Q44_12                 7820\n",
       "Q29_Encoded               0\n",
       "Q29_buckets               0\n",
       "Country_Salary_Rank     670\n",
       "Job_Salary_Rank        3351\n",
       "Length: 272, dtype: int64"
      ]
     },
     "execution_count": 62,
     "metadata": {},
     "output_type": "execute_result"
    }
   ],
   "source": [
    "salaries.isnull().sum()"
   ]
  },
  {
   "cell_type": "code",
   "execution_count": 63,
   "id": "0WRModpcb5_P",
   "metadata": {
    "colab": {
     "base_uri": "https://localhost:8080/"
    },
    "id": "0WRModpcb5_P",
    "outputId": "b25ca4a5-e065-49f3-b6cd-c4ee2ab67bfb"
   },
   "outputs": [
    {
     "name": "stdout",
     "output_type": "stream",
     "text": [
      "     Q2  Q3           Q4  Q8   Q11  Q16                 Q23             Q24  \\\n",
      "0  57.0   0  High Income  14  15.0  1.5      Data Scientist      Technology   \n",
      "1  32.0   0  High Income  16  15.0  4.5   Software Engineer         Finance   \n",
      "2  75.0   0  High Income  22  25.0  7.5  Research Scientist  Public Service   \n",
      "3  42.0   0          USA  22  15.0  7.5  Developer Advocate      Technology   \n",
      "4  42.0   0          USA  18  15.0  7.5      Data Scientist      Technology   \n",
      "\n",
      "   Q25  Q27       Q30  \n",
      "0    1    3    5500.0  \n",
      "1    3    4       0.0  \n",
      "2    4    3     550.0  \n",
      "3    4    4     550.0  \n",
      "4    4    4  100000.0  \n",
      "Empty DataFrame\n",
      "Columns: []\n",
      "Index: [0, 1, 2, 3, 4]\n",
      "   Job_Salary_Rank\n",
      "0             95.0\n",
      "1             90.0\n",
      "2             85.0\n",
      "3             80.0\n",
      "4             95.0\n"
     ]
    }
   ],
   "source": [
    "import pandas as pd\n",
    "from sklearn.preprocessing import LabelEncoder\n",
    "\n",
    "# Load the dataset (assuming `salaries` is already loaded)\n",
    "\n",
    "# Process Q2 (Age Ranges)\n",
    "age_means = {\n",
    "    '18-21': 19.5, '22-24': 23, '25-29': 27, '30-34': 32, '35-39': 37,\n",
    "    '40-44': 42, '45-49': 47, '50-54': 52, '55-59': 57, '60-69': 65, '70+': 75\n",
    "}\n",
    "salaries['Q2'] = salaries['Q2'].map(age_means)\n",
    "\n",
    "# Process Q3 (Gender)\n",
    "salaries['Q3'] = salaries['Q3'].apply(lambda x: x if x in [\"Man\", \"Woman\"] else \"Unknown\")\n",
    "gender_mapping = {\"Man\": 0, \"Woman\": 1, \"Unknown\": 2}\n",
    "salaries['Q3'] = salaries['Q3'].map(gender_mapping)\n",
    "\n",
    "\n",
    "# Define income level mapping for Q4 (Country)\n",
    "income_mapping = {\n",
    "    # USA\n",
    "    'United States of America': 'USA',\n",
    "    # High-income countries\n",
    "    'France': 'High Income', 'Germany': 'High Income', 'Australia': 'High Income',\n",
    "    'Singapore': 'High Income', 'Italy': 'High Income', 'Japan': 'High Income', 'Canada': 'High Income',\n",
    "    'Netherlands': 'High Income', 'South Korea': 'High Income',\n",
    "    'United Kingdom of Great Britain and Northern Ireland': 'High Income',\n",
    "    'Hong Kong (S.A.R.)': 'High Income', 'Belgium': 'High Income',\n",
    "    'Israel': 'High Income', 'Ireland': 'High Income',\n",
    "    'New Zealand': 'High Income', 'Switzerland': 'High Income',\n",
    "\n",
    "    # Upper-middle-income countries\n",
    "    'Brazil': 'Upper Middle Income', 'Argentina': 'Upper Middle Income',\n",
    "    'Chile': 'Upper Middle Income', 'China': 'Upper Middle Income',\n",
    "    'Malaysia': 'Upper Middle Income', 'Russia': 'Upper Middle Income',\n",
    "    'Turkey': 'Upper Middle Income', 'South Africa': 'Upper Middle Income',\n",
    "    'Romania': 'Upper Middle Income', 'Mexico': 'Upper Middle Income',\n",
    "    'Colombia': 'Upper Middle Income', 'Iran, Islamic Republic of...': 'Upper Middle Income',\n",
    "\n",
    "    # Lower-middle-income countries\n",
    "    'India': 'Lower Middle Income', 'Indonesia': 'Lower Middle Income',\n",
    "    'Philippines': 'Lower Middle Income', 'Pakistan': 'Lower Middle Income',\n",
    "    'Egypt': 'Lower Middle Income', 'Nigeria': 'Lower Middle Income',\n",
    "    'Vietnam': 'Lower Middle Income', 'Bangladesh': 'Lower Middle Income',\n",
    "    'Kenya': 'Lower Middle Income', 'Ghana': 'Lower Middle Income',\n",
    "    'Cameroon': 'Lower Middle Income', 'Morocco': 'Lower Middle Income',\n",
    "    'Sri Lanka': 'Lower Middle Income', 'Ukraine': 'Lower Middle Income',\n",
    "    'Algeria': 'Lower Middle Income',\n",
    "\n",
    "    # Low-income countries\n",
    "    'Ethiopia': 'Low Income', 'Zimbabwe': 'Low Income',\n",
    "    'Nepal': 'Low Income', 'Uganda': 'Low Income',\n",
    "\n",
    "    # Special cases\n",
    "    'Other': 'Other',\n",
    "    'I do not wish to disclose my location': 'Other'\n",
    "}\n",
    "\n",
    "salaries['Q4'] = salaries['Q4'].map(income_mapping)\n",
    "\n",
    "\n",
    "#  Process Q8 (Education Level)\n",
    "#education_mapping = {\n",
    "#    'Some college/university study without earning a bachelor\\x81E\\x80\\x81Es degree': 'Some College',\n",
    "#    'Bachelor\\x81E\\x80\\x81Es degree': \"Bachelor's\",\n",
    "#    'Doctoral degree': \"Doctorate\",\n",
    "#    'Master\\x81E\\x80\\x81Es degree': \"Master's\",\n",
    "#    'I prefer not to answer': 'Other',\n",
    "#    'No formal education past high school': 'High School',\n",
    "#    'Professional doctorate': 'Doctorate'\n",
    "#}\n",
    "#salaries['Q8'] = salaries['Q8'].map(education_mapping)\n",
    "#education_order = {\n",
    "#    'High School': 0, 'Some College': 1, \"Bachelor's\": 2,\n",
    "#    \"Master's\": 3, 'Doctorate': 4, 'Other': 5\n",
    "#}\n",
    "#salaries['Q8'] = salaries['Q8'].map(education_order)\n",
    "\n",
    "# Define years of education mapping based on common educational trajectories\n",
    "education_years_mapping = {\n",
    "    'No formal education past high school': 12,          # High School\n",
    "    'Some college/university study without earning a bachelor\\x81E\\x80\\x81Es degree': 14,  # Some College\n",
    "    'Bachelor\\x81E\\x80\\x81Es degree': 16,                # Bachelor's degree\n",
    "    'Master\\x81E\\x80\\x81Es degree': 18,                  # Master's degree\n",
    "    'Doctoral degree': 22,                               # Doctorate (e.g., PhD)\n",
    "    'Professional doctorate': 20,                        # Professional Doctorate (e.g., MD, JD)\n",
    "    'I prefer not to answer': 0,                      # Treat as missing or unknown\n",
    "    'Other': 0                                        # Treat as missing or unknown\n",
    "}\n",
    "\n",
    "# Apply the years of education mapping to Q8\n",
    "salaries['Q8'] = salaries['Q8'].map(education_years_mapping)\n",
    "\n",
    "\n",
    "# Process Q11 (Years of Coding Experience)\n",
    "experience_mapping = {\n",
    "    'For how many years have you been writing code and/or programming?': None,\n",
    "    '10-20 years': 15, '20+ years': 25, '5-10 years': 7.5,\n",
    "    '3-5 years': 4, '< 1 years': 0.5, '1-3 years': 2,\n",
    "    'I have never written code': 0\n",
    "}\n",
    "salaries['Q11'] = salaries['Q11'].map(experience_mapping)\n",
    "salaries.dropna(subset=['Q11'], inplace=True)\n",
    "\n",
    "# Process Q16 (Machine Learning Experience)\n",
    "ml_experience_mapping = {\n",
    "    'Under 1 year': 0.5, '1-2 years': 1.5, '2-3 years': 2.5,\n",
    "    '3-4 years': 3.5, '4-5 years': 4.5, '5-10 years': 7.5,\n",
    "    '10-20 years': 15, 'I do not use machine learning methods': 0\n",
    "}\n",
    "salaries['Q16'] = salaries['Q16'].map(ml_experience_mapping)\n",
    "\n",
    "from sklearn.preprocessing import LabelEncoder\n",
    "\n",
    "# Process Q23 (Job Title) with Label Encoding\n",
    "\n",
    "\n",
    "# Process Q24 (Industry) with Label Encoding\n",
    "industry_mapping = {\n",
    "    'Online Service/Internet-based Services': 'Technology',\n",
    "    'Insurance/Risk Assessment': 'Finance',\n",
    "    'Government/Public Service': 'Public Service',\n",
    "    'Computers/Technology': 'Technology',\n",
    "    'Accounting/Finance': 'Finance',\n",
    "    'Academics/Education': 'Education',\n",
    "    'Non-profit/Service': 'Service',\n",
    "    'Medical/Pharmaceutical': 'Healthcare',\n",
    "    'Marketing/CRM': 'Marketing',\n",
    "    'Manufacturing/Fabrication': 'Manufacturing',\n",
    "    'Energy/Mining': 'Energy',\n",
    "    'Broadcasting/Communications': 'Communications',\n",
    "    'Retail/Sales': 'Retail',\n",
    "    'Shipping/Transportation': 'Transportation',\n",
    "    'Other': 'Other'\n",
    "}\n",
    "salaries['Q24'] = salaries['Q24'].map(industry_mapping)\n",
    "\n",
    "\n",
    "# Process Q25 (Company Size) with Ordinal Encoding\n",
    "company_size_mapping = {\n",
    "    '0-49 employees': 1, '50-249 employees': 2,\n",
    "    '250-999 employees': 3, '1000-9,999 employees': 4,\n",
    "    '10,000 or more employees': 5\n",
    "}\n",
    "salaries['Q25'] = salaries['Q25'].map(company_size_mapping)\n",
    "\n",
    "# Process Q27 (ML Adoption Level) with Ordinal Encoding\n",
    "ml_adoption_mapping = {\n",
    "    'No (we do not use ML methods)': 0,\n",
    "    'We are exploring ML methods (and may one day put a model into production)': 1,\n",
    "    'We use ML methods for generating insights (but do not put working models into production)': 2,\n",
    "    'We recently started using ML methods (i.e., models in production for less than 2 years)': 3,\n",
    "    'We have well established ML methods (i.e., models in production for more than 2 years)': 4,\n",
    "    'I do not know': -1  # Optional: treat as unknown\n",
    "}\n",
    "salaries['Q27'] = salaries['Q27'].map(ml_adoption_mapping)\n",
    "\n",
    "# Process Q30 (Spending) with Midpoints\n",
    "spending_mapping = {\n",
    "    '$0 ($USD)': 0, '$1-$99': 50, '$100-$999': 550,\n",
    "    '$1000-$9,999': 5500, '$10,000-$99,999': 55000,\n",
    "    '$100,000 or more ($USD)': 100000\n",
    "}\n",
    "salaries['Q30'] = salaries['Q30'].map(spending_mapping)\n",
    "\n",
    "# Display the final transformed dataset to verify\n",
    "print(salaries[['Q2', 'Q3','Q4', 'Q8', 'Q11', 'Q16','Q23','Q24', 'Q25', 'Q27', 'Q30']].head())\n",
    "print(salaries.filter(like='Industry').head())\n",
    "print(salaries.filter(like='Job').head())\n"
   ]
  },
  {
   "cell_type": "code",
   "execution_count": 64,
   "id": "Fcnd8jbUswXK",
   "metadata": {
    "colab": {
     "base_uri": "https://localhost:8080/"
    },
    "id": "Fcnd8jbUswXK",
    "outputId": "a6ce6657-8662-4273-d8c0-6780c2aa7866"
   },
   "outputs": [
    {
     "name": "stdout",
     "output_type": "stream",
     "text": [
      "Unique values in Q2: [57.  32.  75.  42.  52.  27.  65.  37.  23.  47.  19.5]\n",
      "\n",
      "Unique values in Q3: [0 1 2]\n",
      "\n",
      "Unique values in Q4: ['High Income' 'USA' 'Other' 'Upper Middle Income' 'Lower Middle Income'\n",
      " 'Low Income']\n",
      "\n",
      "Unique values in Q8: [14 16 22 18  0 12 20]\n",
      "\n",
      "Unique values in Q11: [15.  25.   7.5  4.   0.5  2.   0. ]\n",
      "\n",
      "Unique values in Q16: [ 1.5  4.5  7.5  2.5  0.5  3.5 15.   0. ]\n",
      "\n",
      "Unique values in Q23: ['Data Scientist' 'Software Engineer' 'Research Scientist'\n",
      " 'Developer Advocate'\n",
      " 'Data Analyst (Business, Marketing, Financial, Quantitative, etc)'\n",
      " 'Data Engineer' 'Other' 'Machine Learning/ MLops Engineer'\n",
      " 'Engineer (non-software)' 'Teacher / professor'\n",
      " 'Manager (Program, Project, Operations, Executive-level, etc)'\n",
      " 'Statistician' 'Data Administrator' 'Data Architect']\n",
      "\n",
      "Unique values in Q24: ['Technology' 'Finance' 'Public Service' 'Education' 'Service' 'Other'\n",
      " 'Healthcare' 'Marketing' 'Manufacturing' 'Energy' 'Communications'\n",
      " 'Retail' 'Transportation']\n",
      "\n",
      "Unique values in Q25: [1 3 4 2 5]\n",
      "\n",
      "Unique values in Q27: [ 3  4  1 -1  2  0]\n",
      "\n",
      "Unique values in Q30: [5.5e+03 0.0e+00 5.5e+02 1.0e+05 5.0e+01 5.5e+04]\n",
      "\n",
      "Unique values in Country_Salary_Rank: [ 7.  8.  9. 10.  6.  0.  5.  2.  4.  3.]\n",
      "\n"
     ]
    }
   ],
   "source": [
    "# Fill NaN values in Country_Salary_Rank with 0\n",
    "salaries['Country_Salary_Rank'] = salaries['Country_Salary_Rank'].fillna(0)\n",
    "\n",
    "# Fill NaN values in Job_Salary_Rank with 60\n",
    "salaries['Job_Salary_Rank'] = salaries['Job_Salary_Rank'].fillna(60)\n",
    "\n",
    "# Fill NaN values in Q4 with Other\n",
    "salaries['Q4'] = salaries['Q4'].fillna('Other')\n",
    "\n",
    "# Fill NaN values in Q16 with 0, indicating no machine learning experience\n",
    "salaries['Q16'] = salaries['Q16'].fillna(0)\n",
    "\n",
    "# Fill NaN values in Q30 with 0, indicating no spending if missing\n",
    "salaries['Q30'] = salaries['Q30'].fillna(0)\n",
    "\n",
    "# Verify that there are no more NaN values in the specified columns\n",
    "assert salaries[['Q16', 'Q30']].isnull().sum().sum() == 0, \"There are still missing values in Q16 or Q30!\"\n",
    "\n",
    "# Display unique values to confirm\n",
    "for column in ['Q2', 'Q3', 'Q4', 'Q8', 'Q11', 'Q16', 'Q23', 'Q24', 'Q25', 'Q27', 'Q30','Country_Salary_Rank']:\n",
    "    print(f\"Unique values in {column}: {salaries[column].unique()}\\n\")\n"
   ]
  },
  {
   "cell_type": "code",
   "execution_count": 65,
   "id": "uDtQb9CgiIvZ",
   "metadata": {
    "colab": {
     "base_uri": "https://localhost:8080/"
    },
    "id": "uDtQb9CgiIvZ",
    "outputId": "6593dc20-5822-4eab-8d92-34e06359a5f8"
   },
   "outputs": [
    {
     "name": "stdout",
     "output_type": "stream",
     "text": [
      "Q2     float64\n",
      "Q3       int64\n",
      "Q4       int64\n",
      "Q8       int64\n",
      "Q11    float64\n",
      "Q16    float64\n",
      "Q23      int64\n",
      "Q24      int64\n",
      "Q25      int64\n",
      "Q27      int64\n",
      "Q30    float64\n",
      "dtype: object\n",
      "     Q2  Q3  Q4  Q8   Q11  Q16  Q23  Q24  Q25  Q27       Q30\n",
      "0  57.0   0   4  14  15.0  1.5    1    1    1    3    5500.0\n",
      "1  32.0   0   4  16  15.0  4.5    2    2    3    4       0.0\n",
      "2  75.0   0   4  22  25.0  7.5    3    3    4    3     550.0\n",
      "3  42.0   0   5  22  15.0  7.5    4    1    4    4     550.0\n",
      "4  42.0   0   5  18  15.0  7.5    1    1    4    4  100000.0\n"
     ]
    }
   ],
   "source": [
    "from sklearn.preprocessing import LabelEncoder\n",
    "\n",
    "income_level_mapping = {\n",
    "    'USA' : 5,\n",
    "    'High Income': 4,\n",
    "    'Upper Middle Income': 3,\n",
    "    'Lower Middle Income': 2,\n",
    "    'Low Income': 1,\n",
    "    'Other': 0\n",
    "}\n",
    "\n",
    "# Assuming 'Q4' was already transformed to general income levels and applying mapping\n",
    "salaries['Q4'] = salaries['Q4'].map(income_level_mapping)\n",
    "\n",
    "# Convert Q23 (Job Title) to numeric with Label Encoding or by assigning unique numbers\n",
    "job_title_mapping = {\n",
    "    'Data Scientist': 1,\n",
    "    'Software Engineer': 2,\n",
    "    'Research Scientist': 3,\n",
    "    'Developer Advocate': 4,\n",
    "    'Data Analyst (Business, Marketing, Financial, Quantitative, etc)': 5,\n",
    "    'Data Engineer': 6,\n",
    "    'Other': 7,\n",
    "    'Machine Learning/ MLops Engineer': 8,\n",
    "    'Engineer (non-software)': 9,\n",
    "    'Teacher / professor': 10,\n",
    "    'Manager (Program, Project, Operations, Executive-level, etc)': 11,\n",
    "    'Statistician': 12,\n",
    "    'Data Administrator': 13,\n",
    "    'Data Architect': 14\n",
    "}\n",
    "salaries['Q23'] = salaries['Q23'].map(job_title_mapping)\n",
    "\n",
    "# Convert Q24 (Industry) to numeric with Label Encoding or by assigning unique numbers\n",
    "industry_mapping = {\n",
    "    'Technology': 1,\n",
    "    'Finance': 2,\n",
    "    'Public Service': 3,\n",
    "    'Education': 4,\n",
    "    'Service': 5,\n",
    "    'Other': 6,\n",
    "    'Healthcare': 7,\n",
    "    'Marketing': 8,\n",
    "    'Manufacturing': 9,\n",
    "    'Energy': 10,\n",
    "    'Communications': 11,\n",
    "    'Retail': 12,\n",
    "    'Transportation': 13\n",
    "}\n",
    "salaries['Q24'] = salaries['Q24'].map(industry_mapping)\n",
    "\n",
    "# Check the final data types to confirm all columns are numeric\n",
    "print(salaries[['Q2', 'Q3', 'Q4', 'Q8', 'Q11', 'Q16', 'Q23', 'Q24', 'Q25', 'Q27', 'Q30']].dtypes)\n",
    "print(salaries[['Q2', 'Q3', 'Q4', 'Q8', 'Q11', 'Q16', 'Q23', 'Q24', 'Q25', 'Q27', 'Q30']].head())\n"
   ]
  },
  {
   "cell_type": "markdown",
   "id": "02aiBHNLCgRr",
   "metadata": {
    "id": "02aiBHNLCgRr"
   },
   "source": [
    "### **Handling categorical features (multi column responses)**\n"
   ]
  },
  {
   "cell_type": "code",
   "execution_count": 66,
   "id": "fg1766WHukl6",
   "metadata": {
    "id": "fg1766WHukl6"
   },
   "outputs": [],
   "source": [
    "def binary_encode_multi_columns(df):\n",
    "    # Identify multi-column groups based on common prefixes (e.g., 'Q6_', 'Q7_')\n",
    "    columns = df.columns\n",
    "    multi_column_groups = {}\n",
    "\n",
    "    # Group columns by their common prefixes\n",
    "    for col in columns:\n",
    "        prefix = col.split('_')[0]\n",
    "        if prefix != 'Q29':  # Skip Q29-related columns\n",
    "            if prefix in multi_column_groups:\n",
    "                multi_column_groups[prefix].append(col)\n",
    "            else:\n",
    "                multi_column_groups[prefix] = [col]\n",
    "\n",
    "    # Convert each option column to binary (1 if any value is present, 0 if empty)\n",
    "    for group, cols in multi_column_groups.items():\n",
    "        if len(cols) > 1:  # Only process groups with multiple columns\n",
    "            for col in cols:\n",
    "                df[col] = df[col].apply(lambda x: 1 if pd.notnull(x) and x != 'No' else 0)\n",
    "\n",
    "    return df\n",
    "\n",
    "salaries = binary_encode_multi_columns(salaries)"
   ]
  },
  {
   "cell_type": "code",
   "execution_count": 67,
   "id": "aEEQcFW4OPRJ",
   "metadata": {
    "colab": {
     "base_uri": "https://localhost:8080/"
    },
    "id": "aEEQcFW4OPRJ",
    "outputId": "0ab39fbc-a2c5-40f5-eb6f-659a2fe282ea"
   },
   "outputs": [
    {
     "name": "stdout",
     "output_type": "stream",
     "text": [
      "Columns with missing values:\n",
      " Series([], dtype: int64)\n"
     ]
    }
   ],
   "source": [
    "# Check for missing values in each column and display only those with missing values\n",
    "missing_values = salaries.isnull().sum()\n",
    "missing_columns = missing_values[missing_values > 0]\n",
    "print(\"Columns with missing values:\\n\", missing_columns)\n"
   ]
  },
  {
   "cell_type": "markdown",
   "id": "71PPXsVpEdby",
   "metadata": {
    "id": "71PPXsVpEdby"
   },
   "source": [
    "### **Drop the target variable(s) and get the target variable**\n",
    "\n"
   ]
  },
  {
   "cell_type": "code",
   "execution_count": 68,
   "id": "J8Xdq2I0aIOK",
   "metadata": {
    "id": "J8Xdq2I0aIOK"
   },
   "outputs": [],
   "source": [
    "# Make sure there are no missing values remaining in the dataset\n",
    "assert salaries.isnull().values.sum() == 0, \\\n",
    "    \"There are still {} missing values remaining in salaries!\".format(\n",
    "        salaries.isnull().values.sum()\n",
    "    )"
   ]
  },
  {
   "cell_type": "code",
   "execution_count": 69,
   "id": "2cdrIj0TrHgY",
   "metadata": {
    "colab": {
     "base_uri": "https://localhost:8080/"
    },
    "id": "2cdrIj0TrHgY",
    "outputId": "c0539ff5-d188-4873-cf05-856fb7adbf85"
   },
   "outputs": [
    {
     "data": {
      "text/plain": [
       "((8136, 269), (8136,))"
      ]
     },
     "execution_count": 69,
     "metadata": {},
     "output_type": "execute_result"
    }
   ],
   "source": [
    "# Define the target variable\n",
    "target = salaries['Q29_Encoded']\n",
    "\n",
    "# Drop the target variable columns from the feature set\n",
    "features = salaries.drop(columns=['Q29_buckets', 'Q29_Encoded','Q29'], errors='ignore')\n",
    "\n",
    "# Handle missing values\n",
    "for col in features.columns:\n",
    "    if features[col].dtype in ['float64', 'int64']:  # For numerical columns\n",
    "        features[col].fillna(features[col].median(), inplace=True)\n",
    "    else:  # For categorical columns\n",
    "        features[col].fillna(\"Unknown\", inplace=True)\n",
    "\n",
    "# Ensure no missing values remain in the dataset\n",
    "assert features.isnull().values.sum() == 0, \\\n",
    "    \"There are still {} missing values remaining in the feature set!\".format(features.isnull().values.sum())\n",
    "\n",
    "# Verify that target variables are not included in the feature set\n",
    "for col in features.columns:\n",
    "    assert 'Q29' not in col, \\\n",
    "        \"Target variable ({}) is still in the dataset\".format(col)\n",
    "\n",
    "# Display shapes of features and target for verification\n",
    "features.shape, target.shape\n"
   ]
  },
  {
   "cell_type": "markdown",
   "id": "c1uNYg4xGhta",
   "metadata": {
    "id": "c1uNYg4xGhta"
   },
   "source": [
    "# Exploratory Feature Analysis"
   ]
  },
  {
   "cell_type": "markdown",
   "id": "yCkFKoni0CPH",
   "metadata": {
    "id": "yCkFKoni0CPH"
   },
   "source": [
    "## Split data into training and test sets"
   ]
  },
  {
   "cell_type": "code",
   "execution_count": 70,
   "id": "R5IF_Wvuc9kY",
   "metadata": {
    "colab": {
     "base_uri": "https://localhost:8080/"
    },
    "id": "R5IF_Wvuc9kY",
    "outputId": "1d34d267-cdf0-41ea-9bcb-38cf16566bda"
   },
   "outputs": [
    {
     "name": "stdout",
     "output_type": "stream",
     "text": [
      "Training features shape: (6508, 269)\n",
      "Testing features shape: (1628, 269)\n",
      "Training labels shape: (6508,)\n",
      "Testing labels shape: (1628,)\n"
     ]
    }
   ],
   "source": [
    "from sklearn.model_selection import train_test_split\n",
    "\n",
    "# Split the data into training and test sets\n",
    "train_df, test_df, y_train, y_test = train_test_split(\n",
    "    features,  # Feature set\n",
    "    target,             # Target variable\n",
    "    test_size=0.2,      # Use 20% of the data for testing\n",
    "    random_state=42,    # For reproducibility\n",
    "   # stratify=target     # Ensure the same distribution of target values in train/test\n",
    ")\n",
    "\n",
    "# Display the shapes of the resulting splits\n",
    "print(\"Training features shape:\", train_df.shape)\n",
    "print(\"Testing features shape:\", test_df.shape)\n",
    "print(\"Training labels shape:\", y_train.shape)\n",
    "print(\"Testing labels shape:\", y_test.shape)\n"
   ]
  },
  {
   "cell_type": "code",
   "execution_count": 71,
   "id": "lD8YIf3865d-",
   "metadata": {
    "colab": {
     "base_uri": "https://localhost:8080/",
     "height": 579
    },
    "id": "lD8YIf3865d-",
    "outputId": "8b31b6da-2397-4537-8ecc-a6114d3092c2"
   },
   "outputs": [
    {
     "data": {
      "text/plain": [
       "Q29_Encoded\n",
       "0.0     2437\n",
       "1.0      649\n",
       "2.0      490\n",
       "3.0      368\n",
       "4.0      332\n",
       "10.0     328\n",
       "5.0      299\n",
       "12.0     268\n",
       "6.0      255\n",
       "7.0      233\n",
       "11.0     217\n",
       "13.0     182\n",
       "8.0      168\n",
       "9.0      163\n",
       "14.0     119\n",
       "Name: count, dtype: int64"
      ]
     },
     "execution_count": 71,
     "metadata": {},
     "output_type": "execute_result"
    }
   ],
   "source": [
    "y_train.value_counts()"
   ]
  },
  {
   "cell_type": "markdown",
   "id": "L31jOKn0OVbH",
   "metadata": {
    "id": "L31jOKn0OVbH"
   },
   "source": [
    "## **Feature Engineering/Generation**\n",
    "\n",
    "- Create new feature(s) using existing features!"
   ]
  },
  {
   "cell_type": "code",
   "execution_count": 72,
   "id": "9bcNahUCe-7m",
   "metadata": {
    "colab": {
     "base_uri": "https://localhost:8080/",
     "height": 564
    },
    "id": "9bcNahUCe-7m",
    "outputId": "c921d4d1-66f6-4b94-e99d-3331b449d323"
   },
   "outputs": [
    {
     "data": {
      "image/png": "[encoded data removed]",
      "text/plain": [
       "<Figure size 1000x600 with 1 Axes>"
      ]
     },
     "metadata": {},
     "output_type": "display_data"
    }
   ],
   "source": [
    "from sklearn.feature_selection import SelectKBest, mutual_info_regression\n",
    "import matplotlib.pyplot as plt\n",
    "import seaborn as sns\n",
    "import pandas as pd\n",
    "\n",
    "train_df_temp = train_df.drop(columns=['Country_Salary_Rank', 'Job_Salary_Rank'], errors='ignore')\n",
    "test_df_temp = test_df.drop(columns=['Country_Salary_Rank', 'Job_Salary_Rank'], errors='ignore')\n",
    "# Apply SelectKBest with mutual information regression to select features\n",
    "fs = SelectKBest(score_func=mutual_info_regression, k='all')\n",
    "fit = fs.fit(train_df_temp, y_train)\n",
    "\n",
    "# Create DataFrame for feature importance\n",
    "feature_imp = pd.DataFrame(fit.scores_, columns=['Score'], index=train_df_temp.columns)\n",
    "\n",
    "# Select and plot the top 20 features\n",
    "top_feature = feature_imp.nlargest(n= 20, columns=['Score'])\n",
    "\n",
    "# Plotting\n",
    "plt.figure(figsize=(10, 6))\n",
    "g = sns.barplot(y=top_feature.index, x=top_feature['Score'])\n",
    "plt.title('Top 20 Features with Mutual Information Gain (Original Data)')\n",
    "plt.xlabel('Information Gain')\n",
    "plt.ylabel('Feature Name')\n",
    "g.set_yticklabels(g.get_yticklabels(), rotation=45, horizontalalignment='right')\n",
    "plt.show()"
   ]
  },
  {
   "cell_type": "code",
   "execution_count": 73,
   "id": "oQeGzQXeuv6b",
   "metadata": {
    "id": "oQeGzQXeuv6b"
   },
   "outputs": [],
   "source": [
    "def add_selection_count_columns(df):\n",
    "    # Identify multi-column groups based on common prefixes (e.g., 'Q6_', 'Q7_')\n",
    "    columns = df.columns\n",
    "    multi_column_groups = {}\n",
    "\n",
    "    # Group columns by their common prefixes\n",
    "    for col in columns:\n",
    "        prefix = col.split('_')[0]\n",
    "        if prefix != 'Q29':  # Skip Q29-related columns\n",
    "            if prefix in multi_column_groups:\n",
    "                multi_column_groups[prefix].append(col)\n",
    "            else:\n",
    "                multi_column_groups[prefix] = [col]\n",
    "\n",
    "    # Create a count column for each group to store total selected options\n",
    "    for group, cols in multi_column_groups.items():\n",
    "        if len(cols) > 1:  # Only process groups with multiple columns\n",
    "            count_column_name = f\"{group}count\" #_\n",
    "            df[count_column_name] = df[cols].sum(axis=1)\n",
    "\n",
    "    return df"
   ]
  },
  {
   "cell_type": "code",
   "execution_count": 74,
   "id": "aP-5fEg0uzV-",
   "metadata": {
    "id": "aP-5fEg0uzV-"
   },
   "outputs": [],
   "source": [
    "train_df = add_selection_count_columns(train_df)\n",
    "test_df = add_selection_count_columns(test_df)"
   ]
  },
  {
   "cell_type": "code",
   "execution_count": 75,
   "id": "NBY5MrUoCaEn",
   "metadata": {
    "colab": {
     "base_uri": "https://localhost:8080/",
     "height": 439
    },
    "id": "NBY5MrUoCaEn",
    "outputId": "77d690af-8be3-42bf-939b-ce92baa18e14"
   },
   "outputs": [
    {
     "data": {
      "text/html": [
       "<div>\n",
       "<style scoped>\n",
       "    .dataframe tbody tr th:only-of-type {\n",
       "        vertical-align: middle;\n",
       "    }\n",
       "\n",
       "    .dataframe tbody tr th {\n",
       "        vertical-align: top;\n",
       "    }\n",
       "\n",
       "    .dataframe thead th {\n",
       "        text-align: right;\n",
       "    }\n",
       "</style>\n",
       "<table border=\"1\" class=\"dataframe\">\n",
       "  <thead>\n",
       "    <tr style=\"text-align: right;\">\n",
       "      <th></th>\n",
       "      <th>Q2</th>\n",
       "      <th>Q3</th>\n",
       "      <th>Q4</th>\n",
       "      <th>Q6_1</th>\n",
       "      <th>Q6_2</th>\n",
       "      <th>Q6_3</th>\n",
       "      <th>Q6_4</th>\n",
       "      <th>Q6_5</th>\n",
       "      <th>Q6_6</th>\n",
       "      <th>Q6_7</th>\n",
       "      <th>...</th>\n",
       "      <th>Q34count</th>\n",
       "      <th>Q35count</th>\n",
       "      <th>Q36count</th>\n",
       "      <th>Q37count</th>\n",
       "      <th>Q38count</th>\n",
       "      <th>Q39count</th>\n",
       "      <th>Q40count</th>\n",
       "      <th>Q41count</th>\n",
       "      <th>Q42count</th>\n",
       "      <th>Q44count</th>\n",
       "    </tr>\n",
       "  </thead>\n",
       "  <tbody>\n",
       "    <tr>\n",
       "      <th>5955</th>\n",
       "      <td>27.0</td>\n",
       "      <td>0</td>\n",
       "      <td>2</td>\n",
       "      <td>0</td>\n",
       "      <td>0</td>\n",
       "      <td>0</td>\n",
       "      <td>0</td>\n",
       "      <td>0</td>\n",
       "      <td>0</td>\n",
       "      <td>0</td>\n",
       "      <td>...</td>\n",
       "      <td>1</td>\n",
       "      <td>4</td>\n",
       "      <td>1</td>\n",
       "      <td>1</td>\n",
       "      <td>1</td>\n",
       "      <td>0</td>\n",
       "      <td>1</td>\n",
       "      <td>0</td>\n",
       "      <td>0</td>\n",
       "      <td>3</td>\n",
       "    </tr>\n",
       "    <tr>\n",
       "      <th>6689</th>\n",
       "      <td>27.0</td>\n",
       "      <td>0</td>\n",
       "      <td>2</td>\n",
       "      <td>1</td>\n",
       "      <td>0</td>\n",
       "      <td>0</td>\n",
       "      <td>0</td>\n",
       "      <td>0</td>\n",
       "      <td>0</td>\n",
       "      <td>1</td>\n",
       "      <td>...</td>\n",
       "      <td>0</td>\n",
       "      <td>0</td>\n",
       "      <td>0</td>\n",
       "      <td>0</td>\n",
       "      <td>0</td>\n",
       "      <td>0</td>\n",
       "      <td>0</td>\n",
       "      <td>0</td>\n",
       "      <td>0</td>\n",
       "      <td>1</td>\n",
       "    </tr>\n",
       "    <tr>\n",
       "      <th>5897</th>\n",
       "      <td>37.0</td>\n",
       "      <td>0</td>\n",
       "      <td>3</td>\n",
       "      <td>0</td>\n",
       "      <td>0</td>\n",
       "      <td>0</td>\n",
       "      <td>0</td>\n",
       "      <td>0</td>\n",
       "      <td>0</td>\n",
       "      <td>0</td>\n",
       "      <td>...</td>\n",
       "      <td>0</td>\n",
       "      <td>2</td>\n",
       "      <td>0</td>\n",
       "      <td>1</td>\n",
       "      <td>1</td>\n",
       "      <td>0</td>\n",
       "      <td>1</td>\n",
       "      <td>0</td>\n",
       "      <td>0</td>\n",
       "      <td>5</td>\n",
       "    </tr>\n",
       "    <tr>\n",
       "      <th>7668</th>\n",
       "      <td>27.0</td>\n",
       "      <td>0</td>\n",
       "      <td>2</td>\n",
       "      <td>0</td>\n",
       "      <td>0</td>\n",
       "      <td>0</td>\n",
       "      <td>0</td>\n",
       "      <td>0</td>\n",
       "      <td>0</td>\n",
       "      <td>0</td>\n",
       "      <td>...</td>\n",
       "      <td>0</td>\n",
       "      <td>0</td>\n",
       "      <td>0</td>\n",
       "      <td>0</td>\n",
       "      <td>0</td>\n",
       "      <td>0</td>\n",
       "      <td>0</td>\n",
       "      <td>0</td>\n",
       "      <td>0</td>\n",
       "      <td>0</td>\n",
       "    </tr>\n",
       "    <tr>\n",
       "      <th>5002</th>\n",
       "      <td>27.0</td>\n",
       "      <td>0</td>\n",
       "      <td>5</td>\n",
       "      <td>0</td>\n",
       "      <td>0</td>\n",
       "      <td>0</td>\n",
       "      <td>1</td>\n",
       "      <td>0</td>\n",
       "      <td>0</td>\n",
       "      <td>0</td>\n",
       "      <td>...</td>\n",
       "      <td>0</td>\n",
       "      <td>0</td>\n",
       "      <td>0</td>\n",
       "      <td>0</td>\n",
       "      <td>0</td>\n",
       "      <td>0</td>\n",
       "      <td>0</td>\n",
       "      <td>0</td>\n",
       "      <td>0</td>\n",
       "      <td>3</td>\n",
       "    </tr>\n",
       "    <tr>\n",
       "      <th>...</th>\n",
       "      <td>...</td>\n",
       "      <td>...</td>\n",
       "      <td>...</td>\n",
       "      <td>...</td>\n",
       "      <td>...</td>\n",
       "      <td>...</td>\n",
       "      <td>...</td>\n",
       "      <td>...</td>\n",
       "      <td>...</td>\n",
       "      <td>...</td>\n",
       "      <td>...</td>\n",
       "      <td>...</td>\n",
       "      <td>...</td>\n",
       "      <td>...</td>\n",
       "      <td>...</td>\n",
       "      <td>...</td>\n",
       "      <td>...</td>\n",
       "      <td>...</td>\n",
       "      <td>...</td>\n",
       "      <td>...</td>\n",
       "      <td>...</td>\n",
       "    </tr>\n",
       "    <tr>\n",
       "      <th>5226</th>\n",
       "      <td>27.0</td>\n",
       "      <td>0</td>\n",
       "      <td>2</td>\n",
       "      <td>0</td>\n",
       "      <td>0</td>\n",
       "      <td>0</td>\n",
       "      <td>0</td>\n",
       "      <td>0</td>\n",
       "      <td>0</td>\n",
       "      <td>0</td>\n",
       "      <td>...</td>\n",
       "      <td>0</td>\n",
       "      <td>0</td>\n",
       "      <td>0</td>\n",
       "      <td>0</td>\n",
       "      <td>0</td>\n",
       "      <td>0</td>\n",
       "      <td>0</td>\n",
       "      <td>0</td>\n",
       "      <td>0</td>\n",
       "      <td>2</td>\n",
       "    </tr>\n",
       "    <tr>\n",
       "      <th>5390</th>\n",
       "      <td>32.0</td>\n",
       "      <td>0</td>\n",
       "      <td>2</td>\n",
       "      <td>0</td>\n",
       "      <td>0</td>\n",
       "      <td>1</td>\n",
       "      <td>1</td>\n",
       "      <td>0</td>\n",
       "      <td>0</td>\n",
       "      <td>0</td>\n",
       "      <td>...</td>\n",
       "      <td>0</td>\n",
       "      <td>0</td>\n",
       "      <td>0</td>\n",
       "      <td>0</td>\n",
       "      <td>0</td>\n",
       "      <td>0</td>\n",
       "      <td>0</td>\n",
       "      <td>0</td>\n",
       "      <td>0</td>\n",
       "      <td>3</td>\n",
       "    </tr>\n",
       "    <tr>\n",
       "      <th>860</th>\n",
       "      <td>42.0</td>\n",
       "      <td>0</td>\n",
       "      <td>4</td>\n",
       "      <td>1</td>\n",
       "      <td>1</td>\n",
       "      <td>1</td>\n",
       "      <td>1</td>\n",
       "      <td>1</td>\n",
       "      <td>1</td>\n",
       "      <td>0</td>\n",
       "      <td>...</td>\n",
       "      <td>2</td>\n",
       "      <td>6</td>\n",
       "      <td>2</td>\n",
       "      <td>1</td>\n",
       "      <td>1</td>\n",
       "      <td>0</td>\n",
       "      <td>1</td>\n",
       "      <td>0</td>\n",
       "      <td>2</td>\n",
       "      <td>3</td>\n",
       "    </tr>\n",
       "    <tr>\n",
       "      <th>7603</th>\n",
       "      <td>32.0</td>\n",
       "      <td>0</td>\n",
       "      <td>2</td>\n",
       "      <td>0</td>\n",
       "      <td>0</td>\n",
       "      <td>1</td>\n",
       "      <td>1</td>\n",
       "      <td>0</td>\n",
       "      <td>0</td>\n",
       "      <td>1</td>\n",
       "      <td>...</td>\n",
       "      <td>2</td>\n",
       "      <td>3</td>\n",
       "      <td>2</td>\n",
       "      <td>0</td>\n",
       "      <td>0</td>\n",
       "      <td>0</td>\n",
       "      <td>0</td>\n",
       "      <td>0</td>\n",
       "      <td>0</td>\n",
       "      <td>1</td>\n",
       "    </tr>\n",
       "    <tr>\n",
       "      <th>7270</th>\n",
       "      <td>32.0</td>\n",
       "      <td>0</td>\n",
       "      <td>3</td>\n",
       "      <td>1</td>\n",
       "      <td>1</td>\n",
       "      <td>1</td>\n",
       "      <td>0</td>\n",
       "      <td>0</td>\n",
       "      <td>0</td>\n",
       "      <td>1</td>\n",
       "      <td>...</td>\n",
       "      <td>2</td>\n",
       "      <td>1</td>\n",
       "      <td>1</td>\n",
       "      <td>1</td>\n",
       "      <td>1</td>\n",
       "      <td>0</td>\n",
       "      <td>1</td>\n",
       "      <td>0</td>\n",
       "      <td>0</td>\n",
       "      <td>1</td>\n",
       "    </tr>\n",
       "  </tbody>\n",
       "</table>\n",
       "<p>6508 rows × 292 columns</p>\n",
       "</div>"
      ],
      "text/plain": [
       "        Q2  Q3  Q4  Q6_1  Q6_2  Q6_3  Q6_4  Q6_5  Q6_6  Q6_7  ...  Q34count  \\\n",
       "5955  27.0   0   2     0     0     0     0     0     0     0  ...         1   \n",
       "6689  27.0   0   2     1     0     0     0     0     0     1  ...         0   \n",
       "5897  37.0   0   3     0     0     0     0     0     0     0  ...         0   \n",
       "7668  27.0   0   2     0     0     0     0     0     0     0  ...         0   \n",
       "5002  27.0   0   5     0     0     0     1     0     0     0  ...         0   \n",
       "...    ...  ..  ..   ...   ...   ...   ...   ...   ...   ...  ...       ...   \n",
       "5226  27.0   0   2     0     0     0     0     0     0     0  ...         0   \n",
       "5390  32.0   0   2     0     0     1     1     0     0     0  ...         0   \n",
       "860   42.0   0   4     1     1     1     1     1     1     0  ...         2   \n",
       "7603  32.0   0   2     0     0     1     1     0     0     1  ...         2   \n",
       "7270  32.0   0   3     1     1     1     0     0     0     1  ...         2   \n",
       "\n",
       "      Q35count  Q36count  Q37count  Q38count  Q39count  Q40count  Q41count  \\\n",
       "5955         4         1         1         1         0         1         0   \n",
       "6689         0         0         0         0         0         0         0   \n",
       "5897         2         0         1         1         0         1         0   \n",
       "7668         0         0         0         0         0         0         0   \n",
       "5002         0         0         0         0         0         0         0   \n",
       "...        ...       ...       ...       ...       ...       ...       ...   \n",
       "5226         0         0         0         0         0         0         0   \n",
       "5390         0         0         0         0         0         0         0   \n",
       "860          6         2         1         1         0         1         0   \n",
       "7603         3         2         0         0         0         0         0   \n",
       "7270         1         1         1         1         0         1         0   \n",
       "\n",
       "      Q42count  Q44count  \n",
       "5955         0         3  \n",
       "6689         0         1  \n",
       "5897         0         5  \n",
       "7668         0         0  \n",
       "5002         0         3  \n",
       "...        ...       ...  \n",
       "5226         0         2  \n",
       "5390         0         3  \n",
       "860          2         3  \n",
       "7603         0         1  \n",
       "7270         0         1  \n",
       "\n",
       "[6508 rows x 292 columns]"
      ]
     },
     "execution_count": 75,
     "metadata": {},
     "output_type": "execute_result"
    }
   ],
   "source": [
    "train_df"
   ]
  },
  {
   "cell_type": "code",
   "execution_count": 76,
   "id": "X_Sdw7lGVhAf",
   "metadata": {
    "colab": {
     "base_uri": "https://localhost:8080/"
    },
    "id": "X_Sdw7lGVhAf",
    "outputId": "f54c75b1-5a44-4201-fa99-434d37bcfefb"
   },
   "outputs": [
    {
     "name": "stdout",
     "output_type": "stream",
     "text": [
      "      Country_Salary_Rank  Q11  Country_Q11_Product\n",
      "5955                  4.0  4.0                 16.0\n",
      "6689                  4.0  0.5                  2.0\n",
      "5897                  5.0  7.5                 37.5\n",
      "7668                  4.0  0.5                  2.0\n",
      "5002                 10.0  2.0                 20.0\n",
      "      Country_Salary_Rank   Q11  Country_Q11_Product\n",
      "7918                  4.0   4.0                 16.0\n",
      "5426                  2.0   4.0                  8.0\n",
      "1430                  5.0  25.0                125.0\n",
      "5325                  4.0   0.0                  0.0\n",
      "7893                  8.0  25.0                200.0\n"
     ]
    }
   ],
   "source": [
    "# Ensure 'Country_Salary_Rank' and 'Q11' columns exist in train_df and test_df.\n",
    "# If they do not exist, create or map them as necessary.\n",
    "\n",
    "# Create the new column in train_df\n",
    "train_df['Country_Q11_Product'] = train_df['Country_Salary_Rank'] * train_df['Q11']\n",
    "\n",
    "# Create the new column in test_df\n",
    "test_df['Country_Q11_Product'] = test_df['Country_Salary_Rank'] * test_df['Q11']\n",
    "\n",
    "# Display the first few rows of each DataFrame to verify the new column\n",
    "print(train_df[['Country_Salary_Rank', 'Q11', 'Country_Q11_Product']].head())\n",
    "print(test_df[['Country_Salary_Rank', 'Q11', 'Country_Q11_Product']].head())\n"
   ]
  },
  {
   "cell_type": "markdown",
   "id": "fC6DORiwL5b_",
   "metadata": {
    "id": "fC6DORiwL5b_"
   },
   "source": [
    "## **Feature Selection**\n",
    "\n",
    "- Select the features based on the criteria of your choice"
   ]
  },
  {
   "cell_type": "code",
   "execution_count": 77,
   "id": "Yk3B8ClfKWdV",
   "metadata": {
    "colab": {
     "base_uri": "https://localhost:8080/",
     "height": 819
    },
    "id": "Yk3B8ClfKWdV",
    "outputId": "d966b02b-c296-4dd9-b549-e060a77343b3"
   },
   "outputs": [
    {
     "data": {
      "image/png": "[encoded data removed]",
      "text/plain": [
       "<Figure size 1000x600 with 1 Axes>"
      ]
     },
     "metadata": {},
     "output_type": "display_data"
    },
    {
     "data": {
      "text/plain": [
       "['Country_Q11_Product',\n",
       " 'Country_Salary_Rank',\n",
       " 'Q4',\n",
       " 'Q16',\n",
       " 'Q11',\n",
       " 'Q2',\n",
       " 'Q30',\n",
       " 'Q27',\n",
       " 'Q28count',\n",
       " 'Q23',\n",
       " 'Q34count',\n",
       " 'Q34_3',\n",
       " 'Q31count',\n",
       " 'Q28_3',\n",
       " 'Q6_1']"
      ]
     },
     "execution_count": 77,
     "metadata": {},
     "output_type": "execute_result"
    }
   ],
   "source": [
    "from sklearn.feature_selection import SelectKBest, mutual_info_regression\n",
    "import matplotlib.pyplot as plt\n",
    "import seaborn as sns\n",
    "import pandas as pd\n",
    "\n",
    "# Apply SelectKBest with mutual information regression to select features\n",
    "fs = SelectKBest(score_func=mutual_info_regression, k='all')\n",
    "fit = fs.fit(train_df, y_train)\n",
    "\n",
    "# Create DataFrame for feature importance\n",
    "feature_imp = pd.DataFrame(fit.scores_, columns=['Score'], index=train_df.columns)\n",
    "\n",
    "# Select and plot the top 10 features\n",
    "top_feature = feature_imp.nlargest(n= 15, columns=['Score'])\n",
    "\n",
    "# Plotting\n",
    "plt.figure(figsize=(10, 6))\n",
    "g = sns.barplot(y=top_feature.index, x=top_feature['Score'])\n",
    "plt.title('Top 15 Features with Mutual Information Gain')\n",
    "plt.xlabel('Information Gain')\n",
    "plt.ylabel('Feature Name')\n",
    "g.set_yticklabels(g.get_yticklabels(), rotation=45, horizontalalignment='right')\n",
    "plt.show()\n",
    "\n",
    "# List of the top 10 features\n",
    "top_features_list = top_feature.index.tolist()\n",
    "top_features_list\n"
   ]
  },
  {
   "cell_type": "code",
   "execution_count": 78,
   "id": "NhXTWUFGLCTf",
   "metadata": {
    "colab": {
     "base_uri": "https://localhost:8080/",
     "height": 224
    },
    "id": "NhXTWUFGLCTf",
    "outputId": "f4c755cc-7f9a-490d-9962-38b938970c21"
   },
   "outputs": [
    {
     "data": {
      "text/html": [
       "<div>\n",
       "<style scoped>\n",
       "    .dataframe tbody tr th:only-of-type {\n",
       "        vertical-align: middle;\n",
       "    }\n",
       "\n",
       "    .dataframe tbody tr th {\n",
       "        vertical-align: top;\n",
       "    }\n",
       "\n",
       "    .dataframe thead th {\n",
       "        text-align: right;\n",
       "    }\n",
       "</style>\n",
       "<table border=\"1\" class=\"dataframe\">\n",
       "  <thead>\n",
       "    <tr style=\"text-align: right;\">\n",
       "      <th></th>\n",
       "      <th>Country_Q11_Product</th>\n",
       "      <th>Country_Salary_Rank</th>\n",
       "      <th>Q4</th>\n",
       "      <th>Q16</th>\n",
       "      <th>Q11</th>\n",
       "      <th>Q2</th>\n",
       "      <th>Q30</th>\n",
       "      <th>Q27</th>\n",
       "      <th>Q28count</th>\n",
       "      <th>Q23</th>\n",
       "      <th>Q34count</th>\n",
       "      <th>Q34_3</th>\n",
       "      <th>Q31count</th>\n",
       "      <th>Q28_3</th>\n",
       "      <th>Q6_1</th>\n",
       "    </tr>\n",
       "  </thead>\n",
       "  <tbody>\n",
       "    <tr>\n",
       "      <th>0</th>\n",
       "      <td>-0.457540</td>\n",
       "      <td>-0.420037</td>\n",
       "      <td>-0.445533</td>\n",
       "      <td>0.244544</td>\n",
       "      <td>-0.453922</td>\n",
       "      <td>-0.915860</td>\n",
       "      <td>-0.048557</td>\n",
       "      <td>0.874381</td>\n",
       "      <td>0.541729</td>\n",
       "      <td>-1.232642</td>\n",
       "      <td>0.323039</td>\n",
       "      <td>2.058086</td>\n",
       "      <td>0.151977</td>\n",
       "      <td>1.340423</td>\n",
       "      <td>-0.924478</td>\n",
       "    </tr>\n",
       "    <tr>\n",
       "      <th>1</th>\n",
       "      <td>-0.681594</td>\n",
       "      <td>-0.420037</td>\n",
       "      <td>-0.445533</td>\n",
       "      <td>-0.761728</td>\n",
       "      <td>-0.883300</td>\n",
       "      <td>-0.915860</td>\n",
       "      <td>-0.340542</td>\n",
       "      <td>1.439416</td>\n",
       "      <td>-0.808290</td>\n",
       "      <td>-0.146455</td>\n",
       "      <td>-0.693074</td>\n",
       "      <td>-0.485888</td>\n",
       "      <td>-0.751278</td>\n",
       "      <td>-0.746033</td>\n",
       "      <td>1.081692</td>\n",
       "    </tr>\n",
       "    <tr>\n",
       "      <th>2</th>\n",
       "      <td>-0.113457</td>\n",
       "      <td>-0.068674</td>\n",
       "      <td>0.191026</td>\n",
       "      <td>0.244544</td>\n",
       "      <td>-0.024543</td>\n",
       "      <td>-0.047817</td>\n",
       "      <td>-0.048557</td>\n",
       "      <td>0.874381</td>\n",
       "      <td>0.541729</td>\n",
       "      <td>-0.689548</td>\n",
       "      <td>-0.693074</td>\n",
       "      <td>-0.485888</td>\n",
       "      <td>0.151977</td>\n",
       "      <td>1.340423</td>\n",
       "      <td>-0.924478</td>\n",
       "    </tr>\n",
       "    <tr>\n",
       "      <th>3</th>\n",
       "      <td>-0.681594</td>\n",
       "      <td>-0.420037</td>\n",
       "      <td>-0.445533</td>\n",
       "      <td>-0.761728</td>\n",
       "      <td>-0.883300</td>\n",
       "      <td>-0.915860</td>\n",
       "      <td>-0.340542</td>\n",
       "      <td>-0.820725</td>\n",
       "      <td>-0.808290</td>\n",
       "      <td>0.939732</td>\n",
       "      <td>-0.693074</td>\n",
       "      <td>-0.485888</td>\n",
       "      <td>-0.751278</td>\n",
       "      <td>-0.746033</td>\n",
       "      <td>-0.924478</td>\n",
       "    </tr>\n",
       "    <tr>\n",
       "      <th>4</th>\n",
       "      <td>-0.393525</td>\n",
       "      <td>1.688137</td>\n",
       "      <td>1.464144</td>\n",
       "      <td>-0.761728</td>\n",
       "      <td>-0.699281</td>\n",
       "      <td>-0.915860</td>\n",
       "      <td>-0.311344</td>\n",
       "      <td>1.439416</td>\n",
       "      <td>-0.808290</td>\n",
       "      <td>-0.961095</td>\n",
       "      <td>-0.693074</td>\n",
       "      <td>-0.485888</td>\n",
       "      <td>-0.751278</td>\n",
       "      <td>-0.746033</td>\n",
       "      <td>-0.924478</td>\n",
       "    </tr>\n",
       "  </tbody>\n",
       "</table>\n",
       "</div>"
      ],
      "text/plain": [
       "   Country_Q11_Product  Country_Salary_Rank        Q4       Q16       Q11  \\\n",
       "0            -0.457540            -0.420037 -0.445533  0.244544 -0.453922   \n",
       "1            -0.681594            -0.420037 -0.445533 -0.761728 -0.883300   \n",
       "2            -0.113457            -0.068674  0.191026  0.244544 -0.024543   \n",
       "3            -0.681594            -0.420037 -0.445533 -0.761728 -0.883300   \n",
       "4            -0.393525             1.688137  1.464144 -0.761728 -0.699281   \n",
       "\n",
       "         Q2       Q30       Q27  Q28count       Q23  Q34count     Q34_3  \\\n",
       "0 -0.915860 -0.048557  0.874381  0.541729 -1.232642  0.323039  2.058086   \n",
       "1 -0.915860 -0.340542  1.439416 -0.808290 -0.146455 -0.693074 -0.485888   \n",
       "2 -0.047817 -0.048557  0.874381  0.541729 -0.689548 -0.693074 -0.485888   \n",
       "3 -0.915860 -0.340542 -0.820725 -0.808290  0.939732 -0.693074 -0.485888   \n",
       "4 -0.915860 -0.311344  1.439416 -0.808290 -0.961095 -0.693074 -0.485888   \n",
       "\n",
       "   Q31count     Q28_3      Q6_1  \n",
       "0  0.151977  1.340423 -0.924478  \n",
       "1 -0.751278 -0.746033  1.081692  \n",
       "2  0.151977  1.340423 -0.924478  \n",
       "3 -0.751278 -0.746033 -0.924478  \n",
       "4 -0.751278 -0.746033 -0.924478  "
      ]
     },
     "execution_count": 78,
     "metadata": {},
     "output_type": "execute_result"
    }
   ],
   "source": [
    "from sklearn.preprocessing import StandardScaler\n",
    "\n",
    "# Initialize the StandardScaler\n",
    "scaler = StandardScaler()\n",
    "\n",
    "# Fit the scaler on the training data and transform it\n",
    "train_df_selected = scaler.fit_transform(train_df[top_features_list])\n",
    "\n",
    "# Convert the standardized array back to a DataFrame for easier handling\n",
    "train_df_selected = pd.DataFrame(train_df_selected, columns=top_features_list)\n",
    "\n",
    "# Display the first few rows of the standardized training data\n",
    "train_df_selected.head()\n"
   ]
  },
  {
   "cell_type": "markdown",
   "id": "mCHvO21oMCjj",
   "metadata": {
    "id": "mCHvO21oMCjj"
   },
   "source": [
    "## **Visualization**\n",
    "\n",
    "- Make visualization to better understand your data"
   ]
  },
  {
   "cell_type": "markdown",
   "id": "RWu57xog0qGh",
   "metadata": {
    "id": "RWu57xog0qGh"
   },
   "source": [
    "## **Apply the same feature engineering/selection to test data**"
   ]
  },
  {
   "cell_type": "code",
   "execution_count": 79,
   "id": "_x2ghBnILLav",
   "metadata": {
    "colab": {
     "base_uri": "https://localhost:8080/",
     "height": 224
    },
    "id": "_x2ghBnILLav",
    "outputId": "38b60b5c-6906-48d0-f36a-ba1a7d248424"
   },
   "outputs": [
    {
     "data": {
      "text/html": [
       "<div>\n",
       "<style scoped>\n",
       "    .dataframe tbody tr th:only-of-type {\n",
       "        vertical-align: middle;\n",
       "    }\n",
       "\n",
       "    .dataframe tbody tr th {\n",
       "        vertical-align: top;\n",
       "    }\n",
       "\n",
       "    .dataframe thead th {\n",
       "        text-align: right;\n",
       "    }\n",
       "</style>\n",
       "<table border=\"1\" class=\"dataframe\">\n",
       "  <thead>\n",
       "    <tr style=\"text-align: right;\">\n",
       "      <th></th>\n",
       "      <th>Country_Q11_Product</th>\n",
       "      <th>Country_Salary_Rank</th>\n",
       "      <th>Q4</th>\n",
       "      <th>Q16</th>\n",
       "      <th>Q11</th>\n",
       "      <th>Q2</th>\n",
       "      <th>Q30</th>\n",
       "      <th>Q27</th>\n",
       "      <th>Q28count</th>\n",
       "      <th>Q23</th>\n",
       "      <th>Q34count</th>\n",
       "      <th>Q34_3</th>\n",
       "      <th>Q31count</th>\n",
       "      <th>Q28_3</th>\n",
       "      <th>Q6_1</th>\n",
       "    </tr>\n",
       "  </thead>\n",
       "  <tbody>\n",
       "    <tr>\n",
       "      <th>0</th>\n",
       "      <td>-0.457540</td>\n",
       "      <td>-0.420037</td>\n",
       "      <td>-0.445533</td>\n",
       "      <td>-0.761728</td>\n",
       "      <td>-0.453922</td>\n",
       "      <td>-1.263077</td>\n",
       "      <td>-0.340542</td>\n",
       "      <td>-0.255690</td>\n",
       "      <td>-0.808290</td>\n",
       "      <td>0.125092</td>\n",
       "      <td>-0.693074</td>\n",
       "      <td>-0.485888</td>\n",
       "      <td>-0.751278</td>\n",
       "      <td>-0.746033</td>\n",
       "      <td>-0.924478</td>\n",
       "    </tr>\n",
       "    <tr>\n",
       "      <th>1</th>\n",
       "      <td>-0.585571</td>\n",
       "      <td>-1.122761</td>\n",
       "      <td>-1.718650</td>\n",
       "      <td>-0.330468</td>\n",
       "      <td>-0.453922</td>\n",
       "      <td>-0.915860</td>\n",
       "      <td>-0.311344</td>\n",
       "      <td>0.874381</td>\n",
       "      <td>-0.133280</td>\n",
       "      <td>-0.961095</td>\n",
       "      <td>0.323039</td>\n",
       "      <td>-0.485888</td>\n",
       "      <td>0.151977</td>\n",
       "      <td>-0.746033</td>\n",
       "      <td>-0.924478</td>\n",
       "    </tr>\n",
       "    <tr>\n",
       "      <th>2</th>\n",
       "      <td>1.286881</td>\n",
       "      <td>-0.068674</td>\n",
       "      <td>0.191026</td>\n",
       "      <td>3.550863</td>\n",
       "      <td>2.122347</td>\n",
       "      <td>1.688269</td>\n",
       "      <td>-0.340542</td>\n",
       "      <td>1.439416</td>\n",
       "      <td>0.541729</td>\n",
       "      <td>1.482825</td>\n",
       "      <td>-0.693074</td>\n",
       "      <td>-0.485888</td>\n",
       "      <td>-0.751278</td>\n",
       "      <td>1.340423</td>\n",
       "      <td>1.081692</td>\n",
       "    </tr>\n",
       "    <tr>\n",
       "      <th>3</th>\n",
       "      <td>-0.713602</td>\n",
       "      <td>-0.420037</td>\n",
       "      <td>-0.445533</td>\n",
       "      <td>-0.761728</td>\n",
       "      <td>-0.944639</td>\n",
       "      <td>-0.047817</td>\n",
       "      <td>-0.048557</td>\n",
       "      <td>0.874381</td>\n",
       "      <td>-0.133280</td>\n",
       "      <td>1.482825</td>\n",
       "      <td>-0.693074</td>\n",
       "      <td>-0.485888</td>\n",
       "      <td>-0.751278</td>\n",
       "      <td>-0.746033</td>\n",
       "      <td>1.081692</td>\n",
       "    </tr>\n",
       "    <tr>\n",
       "      <th>4</th>\n",
       "      <td>2.487171</td>\n",
       "      <td>0.985412</td>\n",
       "      <td>0.827585</td>\n",
       "      <td>-0.617974</td>\n",
       "      <td>2.122347</td>\n",
       "      <td>3.250747</td>\n",
       "      <td>-0.340542</td>\n",
       "      <td>-0.820725</td>\n",
       "      <td>-0.808290</td>\n",
       "      <td>0.396638</td>\n",
       "      <td>-0.693074</td>\n",
       "      <td>-0.485888</td>\n",
       "      <td>-0.751278</td>\n",
       "      <td>-0.746033</td>\n",
       "      <td>-0.924478</td>\n",
       "    </tr>\n",
       "  </tbody>\n",
       "</table>\n",
       "</div>"
      ],
      "text/plain": [
       "   Country_Q11_Product  Country_Salary_Rank        Q4       Q16       Q11  \\\n",
       "0            -0.457540            -0.420037 -0.445533 -0.761728 -0.453922   \n",
       "1            -0.585571            -1.122761 -1.718650 -0.330468 -0.453922   \n",
       "2             1.286881            -0.068674  0.191026  3.550863  2.122347   \n",
       "3            -0.713602            -0.420037 -0.445533 -0.761728 -0.944639   \n",
       "4             2.487171             0.985412  0.827585 -0.617974  2.122347   \n",
       "\n",
       "         Q2       Q30       Q27  Q28count       Q23  Q34count     Q34_3  \\\n",
       "0 -1.263077 -0.340542 -0.255690 -0.808290  0.125092 -0.693074 -0.485888   \n",
       "1 -0.915860 -0.311344  0.874381 -0.133280 -0.961095  0.323039 -0.485888   \n",
       "2  1.688269 -0.340542  1.439416  0.541729  1.482825 -0.693074 -0.485888   \n",
       "3 -0.047817 -0.048557  0.874381 -0.133280  1.482825 -0.693074 -0.485888   \n",
       "4  3.250747 -0.340542 -0.820725 -0.808290  0.396638 -0.693074 -0.485888   \n",
       "\n",
       "   Q31count     Q28_3      Q6_1  \n",
       "0 -0.751278 -0.746033 -0.924478  \n",
       "1  0.151977 -0.746033 -0.924478  \n",
       "2 -0.751278  1.340423  1.081692  \n",
       "3 -0.751278 -0.746033  1.081692  \n",
       "4 -0.751278 -0.746033 -0.924478  "
      ]
     },
     "execution_count": 79,
     "metadata": {},
     "output_type": "execute_result"
    }
   ],
   "source": [
    "# Standardize the test set using the same scaler fitted on the training set\n",
    "test_df_selected = scaler.transform(test_df[top_features_list])\n",
    "\n",
    "# Convert the standardized array back to a DataFrame\n",
    "test_df_selected = pd.DataFrame(test_df_selected, columns=top_features_list)\n",
    "\n",
    "# Display the first few rows of the standardized test data\n",
    "test_df_selected.head()\n"
   ]
  },
  {
   "cell_type": "markdown",
   "id": "ZiT8l3PX9m5F",
   "metadata": {
    "id": "ZiT8l3PX9m5F"
   },
   "source": [
    "# Question 3: Model Implementation"
   ]
  },
  {
   "cell_type": "markdown",
   "id": "7oBXbSYFL3Cs",
   "metadata": {
    "id": "7oBXbSYFL3Cs"
   },
   "source": [
    "## Implement Ordinal Logistic Regression Model"
   ]
  },
  {
   "cell_type": "markdown",
   "id": "rfTNn0Z6LuZK",
   "metadata": {
    "id": "rfTNn0Z6LuZK"
   },
   "source": [
    "## Run k-fold cross validation\n",
    "\n",
    "- Report the average/variance of accuracies across folds"
   ]
  },
  {
   "cell_type": "code",
   "execution_count": 80,
   "id": "mO8dxJd3z5WU",
   "metadata": {
    "id": "mO8dxJd3z5WU"
   },
   "outputs": [],
   "source": [
    "import numpy as np\n",
    "from sklearn.linear_model import LogisticRegression\n",
    "\n",
    "class OrdinalLogisticRegression:\n",
    "    def __init__(self, max_iter=100, penalty='l2', C=1.0, solver='lbfgs'):\n",
    "        self.max_iter = max_iter\n",
    "        self.penalty = penalty\n",
    "        self.C = C\n",
    "        self.solver = solver\n",
    "        self.classes_ = []\n",
    "        self.models_ = []\n",
    "\n",
    "    def fit(self, X, y):\n",
    "        self.classes_ = sorted(np.unique(y))\n",
    "        self.models_ = []\n",
    "\n",
    "        for i, c in enumerate(self.classes_[:-1]):  # Train k-1 binary classifiers\n",
    "            y_i = np.where(y <= c, 0, 1)\n",
    "\n",
    "            model = LogisticRegression(max_iter=self.max_iter, penalty=self.penalty,\n",
    "                                       C=self.C, solver=self.solver)\n",
    "            model.fit(X, y_i)\n",
    "            self.models_.append(model)\n",
    "\n",
    "        return self\n",
    "\n",
    "    def predict_proba(self, X):\n",
    "        assert len(self.models_) > 0, \"Model is not fitted yet. Run .fit() first.\"\n",
    "\n",
    "        binary_probabilities = np.empty((X.shape[0], len(self.models_), 2), dtype=float)\n",
    "        for i, model in enumerate(self.models_):\n",
    "            binary_probabilities[:, i] = model.predict_proba(X)\n",
    "\n",
    "        k = len(self.classes_)\n",
    "        proba = np.empty((X.shape[0], k), dtype=float)\n",
    "        proba[:, 0] = binary_probabilities[:, 0, 0]\n",
    "\n",
    "        for i in range(1, k-1):\n",
    "            proba[:, i] = binary_probabilities[:, i, 0] - binary_probabilities[:, i-1, 0]\n",
    "\n",
    "        proba[:, -1] = binary_probabilities[:, k-2, 1]\n",
    "        return proba\n",
    "\n",
    "\n",
    "    def predict(self, X):\n",
    "        proba = self.predict_proba(X)\n",
    "        return np.argmax(proba, axis=1)\n",
    "\n",
    "    def get_params(self, deep=True):\n",
    "        return {'max_iter': self.max_iter, 'penalty': self.penalty, 'C': self.C, 'solver': self.solver}\n",
    "\n",
    "    def set_params(self, **parameters):\n",
    "        for parameter, value in parameters.items():\n",
    "            setattr(self, parameter, value)\n",
    "        return self\n"
   ]
  },
  {
   "cell_type": "code",
   "execution_count": 81,
   "id": "Sdig7aJANGsA",
   "metadata": {
    "colab": {
     "base_uri": "https://localhost:8080/"
    },
    "id": "Sdig7aJANGsA",
    "outputId": "ebe9f090-8f53-4589-f32b-68528c8f0070"
   },
   "outputs": [
    {
     "name": "stdout",
     "output_type": "stream",
     "text": [
      "Average accuracy    :  0.39428193312064275\n",
      "Variance of accuracy:  0.00017261204772492242\n"
     ]
    }
   ],
   "source": [
    "from sklearn.model_selection import KFold\n",
    "from sklearn.metrics import accuracy_score\n",
    "import numpy as np\n",
    "\n",
    "# Reset indices of training data and target for alignment\n",
    "train_df_selected = train_df_selected.reset_index(drop=True)\n",
    "y_train = y_train.reset_index(drop=True)\n",
    "\n",
    "# Set up k-fold cross-validation\n",
    "kf = KFold(n_splits=10, shuffle=True, random_state=42)\n",
    "accuracies = []\n",
    "\n",
    "# Initialize the Ordinal Logistic Regression model\n",
    "model = OrdinalLogisticRegression(max_iter=100)\n",
    "\n",
    "# Perform k-fold cross-validation\n",
    "for train_index, val_index in kf.split(train_df_selected):\n",
    "    # Select training and validation sets based on indices from KFold\n",
    "    X_train, X_val = train_df_selected.iloc[train_index], train_df_selected.iloc[val_index]\n",
    "    y_train_fold, y_val = y_train.iloc[train_index], y_train.iloc[val_index]\n",
    "\n",
    "    # Fit the model on the training data\n",
    "    model.fit(X_train, y_train_fold)\n",
    "\n",
    "    # Make predictions on the validation data\n",
    "    y_pred = model.predict(X_val)\n",
    "\n",
    "    # Calculate standard accuracy without ±1 tolerance\n",
    "    accuracy = accuracy_score(y_val, y_pred)\n",
    "    accuracies.append(accuracy)\n",
    "\n",
    "# Display average accuracy and variance\n",
    "print(\"Average accuracy    : \", np.mean(accuracies))\n",
    "print(\"Variance of accuracy: \", np.var(accuracies))\n"
   ]
  },
  {
   "cell_type": "code",
   "execution_count": 82,
   "id": "-Yxdy_ymlcQJ",
   "metadata": {
    "colab": {
     "base_uri": "https://localhost:8080/"
    },
    "id": "-Yxdy_ymlcQJ",
    "outputId": "ec2eea96-7c96-4a0c-908d-fac6e192ff74"
   },
   "outputs": [
    {
     "name": "stdout",
     "output_type": "stream",
     "text": [
      "Here is the accuracy accross the 10 folds[0.38556067588325654, 0.4055299539170507, 0.42242703533026116, 0.38556067588325654, 0.39938556067588327, 0.3794162826420891, 0.3824884792626728, 0.40706605222734255, 0.38461538461538464, 0.39076923076923076]\n"
     ]
    }
   ],
   "source": [
    "print(f\"Here is the accuracy accross the 10 folds{accuracies}\")"
   ]
  },
  {
   "cell_type": "code",
   "execution_count": 83,
   "id": "2H3Nu_FMm58C",
   "metadata": {
    "colab": {
     "base_uri": "https://localhost:8080/"
    },
    "id": "2H3Nu_FMm58C",
    "outputId": "aa70fdfd-77a5-4227-a189-a8653936a605"
   },
   "outputs": [
    {
     "name": "stdout",
     "output_type": "stream",
     "text": [
      "0.3794162826420891\n",
      "0.42242703533026116\n"
     ]
    }
   ],
   "source": [
    "print(min(accuracies))\n",
    "print(max(accuracies))"
   ]
  },
  {
   "cell_type": "markdown",
   "id": "sxu0cqPWMEIZ",
   "metadata": {
    "id": "sxu0cqPWMEIZ"
   },
   "source": [
    "## Bias-variance trade-off\n",
    "\n",
    "[bias_variance_decomp.py](https://github.com/rasbt/mlxtend/blob/master/mlxtend/evaluate/bias_variance_decomp.py)\n",
    "\n",
    "Below is a function you can use to compute the bias and variance of your ordinal logistic regression model. Using this function, analyze the ordinal logistic regression model performance based on bias-variance trade-off."
   ]
  },
  {
   "cell_type": "code",
   "execution_count": 84,
   "id": "kTas4z9mLpjI",
   "metadata": {
    "id": "kTas4z9mLpjI"
   },
   "outputs": [],
   "source": [
    "### NOTE: You don't need to change anything in this code block! ###\n",
    "\n",
    "def _draw_bootstrap_sample(rng, X, y):\n",
    "    sample_indices = np.arange(X.shape[0])\n",
    "    bootstrap_indices = rng.choice(\n",
    "        sample_indices, size=sample_indices.shape[0], replace=True\n",
    "    )\n",
    "    return X[bootstrap_indices], y[bootstrap_indices]\n",
    "\n",
    "def bias_variance_decomp(\n",
    "    estimator,\n",
    "    X_train,\n",
    "    y_train,\n",
    "    X_test,\n",
    "    y_test,\n",
    "    num_rounds=10,\n",
    "    random_seed=0\n",
    "):\n",
    "    \"\"\"\n",
    "    estimator : object\n",
    "        A classifier or regressor object or class implementing both a\n",
    "        `fit` and `predict` method similar to the scikit-learn API.\n",
    "\n",
    "    X_train : array-like, shape=(num_examples, num_features)\n",
    "        A training dataset for drawing the bootstrap samples to carry\n",
    "        out the bias-variance decomposition.\n",
    "\n",
    "    y_train : array-like, shape=(num_examples)\n",
    "        Targets (class labels, continuous values in case of regression)\n",
    "        associated with the `X_train` examples.\n",
    "\n",
    "    X_test : array-like, shape=(num_examples, num_features)\n",
    "        The test dataset for computing the average loss, bias,\n",
    "        and variance.\n",
    "\n",
    "    y_test : array-like, shape=(num_examples)\n",
    "        Targets (class labels, continuous values in case of regression)\n",
    "        associated with the `X_test` examples.\n",
    "\n",
    "    num_rounds : int (default=10)\n",
    "        Number of bootstrap rounds (sampling from the training set)\n",
    "        for performing the bias-variance decomposition. Each bootstrap\n",
    "        sample has the same size as the original training set.\n",
    "\n",
    "    random_seed : int (default=0)\n",
    "        Random seed for the bootstrap sampling used for the\n",
    "        bias-variance decomposition.\n",
    "\n",
    "    Returns\n",
    "    ----------\n",
    "    avg_bias, avg_var : returns the average bias, and average bias (all floats),\n",
    "                        where the average is computed over the data points\n",
    "                        in the test set.\n",
    "\n",
    "    \"\"\"\n",
    "    loss = \"mse\"\n",
    "\n",
    "    for ary in (X_train, y_train, X_test, y_test):\n",
    "        assert type(ary) == np.ndarray, \\\n",
    "            \"X_train, y_train, X_test, y_test have to be NumPy array. \\\n",
    "            If e.g., X_train is a pandas DataFrame, convert it to NumPy array \\\n",
    "            via X_train=X_train.values.\"\n",
    "\n",
    "    rng = np.random.RandomState(random_seed)\n",
    "\n",
    "    # All the predictions across different rounds\n",
    "    all_pred = np.zeros((num_rounds, y_test.shape[0]), dtype=np.float64)\n",
    "\n",
    "    for i in range(num_rounds):\n",
    "        # Randomly sample training data\n",
    "        X_boot, y_boot = _draw_bootstrap_sample(rng, X_train, y_train)\n",
    "\n",
    "        # Fit the model using the randomly sampled data\n",
    "        pred = estimator.fit(X_boot, y_boot).predict(X_test)\n",
    "        all_pred[i] = pred\n",
    "\n",
    "    # Mean prediction across runs using different dataset for each data point\n",
    "    main_predictions = np.mean(all_pred, axis=0)\n",
    "\n",
    "    # Average bias across different rounds\n",
    "    avg_bias = np.sum((main_predictions - y_test) ** 2) / y_test.size\n",
    "\n",
    "    # Average variance across different rounds\n",
    "    avg_var = np.sum((main_predictions - all_pred) ** 2) / all_pred.size\n",
    "\n",
    "    return avg_bias, avg_var"
   ]
  },
  {
   "cell_type": "code",
   "execution_count": 85,
   "id": "Jilan06Wa6WQ",
   "metadata": {
    "id": "Jilan06Wa6WQ"
   },
   "outputs": [],
   "source": [
    "X_test = test_df_selected.to_numpy()\n",
    "y_test = y_test.to_numpy()\n",
    "X_train = train_df_selected.to_numpy()\n",
    "y_train = y_train.to_numpy()"
   ]
  },
  {
   "cell_type": "code",
   "execution_count": 86,
   "id": "IvfmmzCuMgyd",
   "metadata": {
    "id": "IvfmmzCuMgyd"
   },
   "outputs": [],
   "source": [
    "# Usage example\n",
    "model = OrdinalLogisticRegression()\n",
    "avg_bias, avg_var = \\\n",
    "    bias_variance_decomp(model, X_train, y_train, X_test, y_test, num_rounds=10, random_seed=0)"
   ]
  },
  {
   "cell_type": "code",
   "execution_count": 87,
   "id": "HGhlEcj7MpVP",
   "metadata": {
    "colab": {
     "base_uri": "https://localhost:8080/"
    },
    "id": "HGhlEcj7MpVP",
    "outputId": "cbcab911-aec6-4517-9a00-6bd2d1acabe9"
   },
   "outputs": [
    {
     "name": "stdout",
     "output_type": "stream",
     "text": [
      "14.732070024570023 1.2521437346437347\n"
     ]
    }
   ],
   "source": [
    "print(avg_bias, avg_var)"
   ]
  },
  {
   "cell_type": "code",
   "execution_count": 88,
   "id": "dyBeI3_Ko-Wm",
   "metadata": {
    "id": "dyBeI3_Ko-Wm"
   },
   "outputs": [],
   "source": [
    "# Initialize lists to store results\n",
    "C_values = [0.0001, 0.001, 0.01, 0.1, 1 , 10 , 100]  # Range of C from 0.0001 to 100\n",
    "avg_bias_list = []\n",
    "avg_var_list = []\n",
    "avg_accuracy_list = []\n",
    "\n",
    "for C in C_values:\n",
    "    # Initialize the Ordinal Logistic Regression model with varying C\n",
    "    model = OrdinalLogisticRegression(max_iter=100, C=C)\n",
    "\n",
    "    # Bias-Variance Decomposition\n",
    "    avg_bias, avg_var = bias_variance_decomp(\n",
    "        model, X_train, y_train, X_test, y_test, num_rounds=10, random_seed=0\n",
    "    )\n",
    "\n",
    "    # Perform k-fold cross-validation for accuracy\n",
    "    kf = KFold(n_splits=10, shuffle=True, random_state=42)\n",
    "    accuracies = []\n",
    "\n",
    "    for train_index, val_index in kf.split(X_train):\n",
    "        # Select training and validation sets based on indices from KFold\n",
    "        X_train_fold, X_val_fold = X_train[train_index], X_train[val_index]\n",
    "        y_train_fold, y_val_fold = y_train[train_index], y_train[val_index]\n",
    "\n",
    "        # Fit the model on the training data\n",
    "        model.fit(X_train_fold, y_train_fold)\n",
    "\n",
    "        # Make predictions on the validation data\n",
    "        y_pred = model.predict(X_val_fold)\n",
    "\n",
    "        # Calculate accuracy\n",
    "        accuracy = accuracy_score(y_val_fold, y_pred)\n",
    "        accuracies.append(accuracy)\n",
    "\n",
    "    # Calculate average accuracy across folds\n",
    "    avg_accuracy = np.mean(accuracies)\n",
    "    avg_accuracy_list.append(avg_accuracy)\n",
    "\n",
    "    # Store average bias and variance\n",
    "    avg_bias_list.append(avg_bias)\n",
    "    avg_var_list.append(avg_var)"
   ]
  },
  {
   "cell_type": "code",
   "execution_count": 89,
   "id": "tqogCyw7rxcv",
   "metadata": {
    "colab": {
     "base_uri": "https://localhost:8080/",
     "height": 569
    },
    "id": "tqogCyw7rxcv",
    "outputId": "dbbae21c-5ed1-4eec-805a-913a53d60521"
   },
   "outputs": [
    {
     "data": {
      "image/png": "[encoded data removed]",
      "text/plain": [
       "<Figure size 1200x600 with 1 Axes>"
      ]
     },
     "metadata": {},
     "output_type": "display_data"
    }
   ],
   "source": [
    "# Plotting bias, variance, and accuracy against C values\n",
    "plt.figure(figsize=(12, 6))\n",
    "plt.plot(C_values, avg_bias_list, label='Average Bias', marker='o')\n",
    "plt.plot(C_values, avg_var_list, label='Average Variance', marker='o')\n",
    "plt.plot(C_values, avg_accuracy_list, label='Average Accuracy', marker='o')\n",
    "plt.xscale('log')\n",
    "plt.xlabel('C (Regularization Parameter)')\n",
    "plt.ylabel('Value')\n",
    "plt.title('Bias-Variance-Accuracy Trade-Off for Different C Values')\n",
    "plt.legend()\n",
    "plt.show()"
   ]
  },
  {
   "cell_type": "code",
   "execution_count": 90,
   "id": "xSnFIjgCrk4H",
   "metadata": {
    "colab": {
     "base_uri": "https://localhost:8080/",
     "height": 703
    },
    "id": "xSnFIjgCrk4H",
    "outputId": "1ade563e-4984-42d8-d900-98108e87b198"
   },
   "outputs": [
    {
     "name": "stdout",
     "output_type": "stream",
     "text": [
      "Best C value: 0.01\n",
      "Highest Accuracy: 0.3955112844145102\n"
     ]
    },
    {
     "data": {
      "image/png": "[encoded data removed]",
      "text/plain": [
       "<Figure size 1200x600 with 2 Axes>"
      ]
     },
     "metadata": {},
     "output_type": "display_data"
    }
   ],
   "source": [
    "# Find the best C value with the highest accuracy\n",
    "best_C = C_values[np.argmax(avg_accuracy_list)]\n",
    "best_accuracy = max(avg_accuracy_list)\n",
    "\n",
    "print(f\"Best C value: {best_C}\")\n",
    "print(f\"Highest Accuracy: {best_accuracy}\")\n",
    "\n",
    "# Plotting\n",
    "fig, ax1 = plt.subplots(figsize=(12, 6))\n",
    "\n",
    "# Plot Bias and Variance on the first y-axis\n",
    "ax1.plot(C_values, avg_bias_list, label='Average Bias', marker='o', color='blue')\n",
    "ax1.plot(C_values, avg_var_list, label='Average Variance', marker='o', color='red')\n",
    "ax1.set_xscale('log')\n",
    "ax1.set_xlabel('C (Regularization Parameter)')\n",
    "ax1.set_ylabel('Bias / Variance')\n",
    "ax1.tick_params(axis='y')\n",
    "ax1.set_title('Bias-Variance-Accuracy Trade-Off for Different C Values')\n",
    "\n",
    "# Create a second y-axis for Accuracy\n",
    "ax2 = ax1.twinx()\n",
    "ax2.plot(C_values, avg_accuracy_list, label='Average Accuracy', marker='o', color='green')\n",
    "ax2.set_ylabel('Accuracy', color='green')\n",
    "ax2.tick_params(axis='y', labelcolor='green')\n",
    "\n",
    "# Add legends\n",
    "fig.legend(loc=\"upper center\", bbox_to_anchor=(0.5, 1.15), ncol=3)\n",
    "\n",
    "plt.show()\n"
   ]
  },
  {
   "cell_type": "code",
   "execution_count": 91,
   "id": "lYR3GLxZs3qm",
   "metadata": {
    "colab": {
     "base_uri": "https://localhost:8080/",
     "height": 569
    },
    "id": "lYR3GLxZs3qm",
    "outputId": "e53ab600-e8e2-420e-8d53-10365196d07d"
   },
   "outputs": [
    {
     "data": {
      "image/png": "[encoded data removed]",
      "text/plain": [
       "<Figure size 800x600 with 1 Axes>"
      ]
     },
     "metadata": {},
     "output_type": "display_data"
    }
   ],
   "source": [
    "# Plotting bias, variance, and accuracy against C values (first plot)\n",
    "plt.figure(figsize=(8, 6))\n",
    "plt.plot(C_values, avg_bias_list, label='Average Bias', marker='o', color='blue')\n",
    "plt.plot(C_values, avg_var_list, label='Average Variance', marker='o', color='red')\n",
    "plt.plot(C_values, avg_accuracy_list, label='Average Accuracy', marker='o', color='green')\n",
    "plt.xscale('log')\n",
    "plt.xlabel('C (Regularization Parameter)')\n",
    "plt.ylabel('Value')\n",
    "plt.title('Bias-Variance-Accuracy Trade-Off for Different C Values')\n",
    "plt.legend()\n",
    "plt.show()"
   ]
  },
  {
   "cell_type": "code",
   "execution_count": 92,
   "id": "t71SLL9htFOi",
   "metadata": {
    "colab": {
     "base_uri": "https://localhost:8080/",
     "height": 611
    },
    "id": "t71SLL9htFOi",
    "outputId": "62eef4b7-9b32-4fa6-d2f9-6c8802fe694d"
   },
   "outputs": [
    {
     "data": {
      "image/png": "[encoded data removed]",
      "text/plain": [
       "<Figure size 800x600 with 2 Axes>"
      ]
     },
     "metadata": {},
     "output_type": "display_data"
    }
   ],
   "source": [
    "fig, ax1 = plt.subplots(figsize=(8, 6))\n",
    "\n",
    "# Plot Bias on the first y-axis\n",
    "ax1.plot(C_values, avg_bias_list, label='Average Bias', marker='o', color='blue')\n",
    "ax1.set_xscale('log')\n",
    "ax1.set_xlabel('C (Regularization Parameter)')\n",
    "ax1.set_ylabel('Average Bias', color='blue')\n",
    "ax1.tick_params(axis='y', labelcolor='blue')\n",
    "ax1.set_title('Bias and Variance for Different C Values')\n",
    "\n",
    "# Create a second y-axis for Variance\n",
    "ax2 = ax1.twinx()\n",
    "ax2.plot(C_values, avg_var_list, label='Average Variance', marker='o', color='red')\n",
    "ax2.set_ylabel('Average Variance', color='red')\n",
    "ax2.tick_params(axis='y', labelcolor='red')\n",
    "\n",
    "# Add legends\n",
    "fig.legend()\n",
    "\n",
    "plt.show()\n"
   ]
  },
  {
   "cell_type": "code",
   "execution_count": 93,
   "id": "1UKn7k1KOnwd",
   "metadata": {
    "id": "1UKn7k1KOnwd"
   },
   "outputs": [],
   "source": [
    "#TODO: Discuss bias-variance trade-off of your ordinal logistic regression model"
   ]
  },
  {
   "cell_type": "markdown",
   "id": "eZY5oU1NufVT",
   "metadata": {
    "id": "eZY5oU1NufVT"
   },
   "source": [
    "**Discussion**: The bias-variance trade-off in the ordinal logistic regression model is evident as we adjust the regularization parameter C. With very low C values (e.g., 10e-4\n",
    "), the model exhibits high bias and low variance due to strong regularization, leading to underfitting. As C increases to around 0.01, bias significantly decreases while variance slightly increases, indicating a better fit to the data without excessive complexity.\n",
    "\n",
    "At C = 0.01, the model achieves the highest accuracy (around 0.396), marking an optimal balance between bias and variance. Further increases in C don’t improve accuracy; the bias remains low, and variance stabilizes, suggesting the model has reached its ideal flexibility.\n",
    "\n",
    "In summary, C = 0.01 is the best choice, balancing bias and variance for optimal accuracy. Lower C values cause underfitting, while higher values add unnecessary variance without performance gains."
   ]
  },
  {
   "cell_type": "markdown",
   "id": "yM6x1l0ylEai",
   "metadata": {
    "id": "yM6x1l0ylEai"
   },
   "source": [
    "# Question 4: Model Tuning"
   ]
  },
  {
   "cell_type": "markdown",
   "id": "Yd1b-XDKlgYe",
   "metadata": {
    "id": "Yd1b-XDKlgYe"
   },
   "source": [
    "- What are the hyperparameters we can potentially set for our ordinal logistic regression model?\n",
    "- Which hyperparameters seem to be worthwhile to tune?"
   ]
  },
  {
   "cell_type": "markdown",
   "id": "hCqdrfV9nWEP",
   "metadata": {
    "id": "hCqdrfV9nWEP"
   },
   "source": [
    "## Grid Search\n",
    "\n",
    "- Grid search will take time to complete - but if it does not finish in a few hours, you're probably trying too many combinations\n",
    "- A recommended approach is to try a small number of combinations with a wide range first (for continuous value hyperparameters)! Then gradually increase the points that seem to be near optimal"
   ]
  },
  {
   "cell_type": "code",
   "execution_count": 94,
   "id": "eb78dhEkxxP7",
   "metadata": {
    "colab": {
     "base_uri": "https://localhost:8080/"
    },
    "id": "eb78dhEkxxP7",
    "outputId": "37384bba-3dd8-457e-e2ce-cc2d94a43376"
   },
   "outputs": [
    {
     "name": "stdout",
     "output_type": "stream",
     "text": [
      "Fitting 10 folds for each of 14 candidates, totalling 140 fits\n",
      "Best Parameters: {'C': 1.0, 'penalty': 'l2'}\n",
      "Best Score (MAE): -2.5231778329197683\n"
     ]
    }
   ],
   "source": [
    "from sklearn.model_selection import GridSearchCV\n",
    "from sklearn.metrics import make_scorer, mean_absolute_error\n",
    "\n",
    "# Define custom scoring function using MAE for ordinal regression\n",
    "mae_scorer = make_scorer(mean_absolute_error, greater_is_better=False)\n",
    "\n",
    "# Define hyperparameter grid for tuning\n",
    "param_grid = {\n",
    "  #  'max_iter': [50, 100, 200],  # Higher iterations for potentially more complex convergence\n",
    "    'penalty': ['l2', 'l1'],     # Testing regularization type: L1 (Lasso), L2 (Ridge)\n",
    "    'C': [0.001, 0.01, 0.1, 1.0, 10.0, 50 , 100], # Wider range for regularization strength\n",
    "   # 'solver': ['liblinear', 'lbfgs', 'sag'],  # Solvers compatible with 'l1' and 'l2' penalties\n",
    "}\n",
    "\n",
    "# Initialize the Ordinal Logistic Regression model\n",
    "model = OrdinalLogisticRegression()\n",
    "\n",
    "# Use GridSearchCV to find the best hyperparameters based on MAE\n",
    "grid_search = GridSearchCV(\n",
    "    estimator=model,\n",
    "    param_grid=param_grid,\n",
    "    scoring=mae_scorer,\n",
    "    cv=10,\n",
    "    verbose=1,\n",
    "    n_jobs=-1\n",
    ")\n",
    "\n",
    "# Fit the grid search model\n",
    "grid_search.fit(train_df_selected, y_train)\n",
    "\n",
    "# Output the best hyperparameters and MAE score\n",
    "print(\"Best Parameters:\", grid_search.best_params_)\n",
    "print(\"Best Score (MAE):\", grid_search.best_score_)\n"
   ]
  },
  {
   "cell_type": "markdown",
   "id": "4E7snhc_oCna",
   "metadata": {
    "id": "4E7snhc_oCna"
   },
   "source": [
    "## Visualize the feature importance of your model"
   ]
  },
  {
   "cell_type": "code",
   "execution_count": 95,
   "id": "iBEWtfWDby6x",
   "metadata": {
    "colab": {
     "base_uri": "https://localhost:8080/",
     "height": 564
    },
    "id": "iBEWtfWDby6x",
    "outputId": "20f40e6a-4463-4701-c462-728587aa03fe"
   },
   "outputs": [
    {
     "data": {
      "image/png": "[encoded data removed]",
      "text/plain": [
       "<Figure size 1000x600 with 1 Axes>"
      ]
     },
     "metadata": {},
     "output_type": "display_data"
    }
   ],
   "source": [
    "# Retrieve best parameters from grid search\n",
    "best_params = grid_search.best_params_\n",
    "\n",
    "# Initialize the Ordinal Logistic Regression model with the best hyperparameters\n",
    "model = OrdinalLogisticRegression(\n",
    "   # max_iter=best_params['max_iter'],\n",
    "    penalty=best_params['penalty'],\n",
    "    C=best_params['C'],\n",
    "  #  solver=best_params['solver']\n",
    ")\n",
    "\n",
    "# Fit the model\n",
    "model.fit(train_df_selected, y_train)\n",
    "\n",
    "# Collect feature importance by taking the mean of the absolute coefficients across all binary models\n",
    "feature_importances = np.mean([np.abs(m.coef_[0]) for m in model.models_], axis=0)\n",
    "\n",
    "# Convert feature importances to a DataFrame for easier visualization\n",
    "feature_importance_df = pd.DataFrame({\n",
    "    'Feature': train_df_selected.columns,\n",
    "    'Importance': feature_importances\n",
    "}).sort_values(by='Importance', ascending=False)\n",
    "\n",
    "# Plot feature importance\n",
    "plt.figure(figsize=(10, 6))\n",
    "sns.barplot(y=feature_importance_df['Feature'], x=feature_importance_df['Importance'])\n",
    "plt.title('Feature Importance based on Ordinal Logistic Regression Coefficients')\n",
    "plt.xlabel('Mean Absolute Coefficient Value')\n",
    "plt.ylabel('Feature')\n",
    "plt.show()\n"
   ]
  },
  {
   "cell_type": "markdown",
   "id": "goOzqrk3nJUw",
   "metadata": {
    "id": "goOzqrk3nJUw"
   },
   "source": [
    "# Testing"
   ]
  },
  {
   "cell_type": "code",
   "execution_count": 96,
   "id": "kzxad5L4oTT7",
   "metadata": {
    "colab": {
     "base_uri": "https://localhost:8080/",
     "height": 555
    },
    "id": "kzxad5L4oTT7",
    "outputId": "415a0475-ecee-4de2-f86f-a9a38d3b8f69"
   },
   "outputs": [
    {
     "name": "stdout",
     "output_type": "stream",
     "text": [
      "Training accuracy: 0.39996926859250154\n",
      "Testing accuracy: 0.4189189189189189\n"
     ]
    },
    {
     "data": {
      "image/png": "[encoded data removed]",
      "text/plain": [
       "<Figure size 1200x600 with 2 Axes>"
      ]
     },
     "metadata": {},
     "output_type": "display_data"
    }
   ],
   "source": [
    "from sklearn.metrics import accuracy_score, confusion_matrix\n",
    "\n",
    "# Define the best-performing model with optimized hyperparameters\n",
    "# Retrieve best parameters from grid search\n",
    "best_params = grid_search.best_params_\n",
    "\n",
    "# Initialize the Ordinal Logistic Regression model with the best hyperparameters\n",
    "best_model = OrdinalLogisticRegression(\n",
    "   # max_iter=best_params['max_iter'],\n",
    "    penalty=best_params['penalty'],\n",
    "    C=best_params['C'],\n",
    "  #  solver=best_params['solver']\n",
    ")\n",
    "\n",
    "\n",
    "# Fit the model on the training data\n",
    "best_model.fit(train_df_selected, y_train)\n",
    "\n",
    "# Make predictions on both the training and test sets\n",
    "y_train_pred = best_model.predict(train_df_selected)\n",
    "y_test_pred = best_model.predict(test_df_selected)\n",
    "\n",
    "# Calculate accuracy on training and test sets\n",
    "train_accuracy = accuracy_score(y_train, y_train_pred)\n",
    "test_accuracy = accuracy_score(y_test, y_test_pred)\n",
    "\n",
    "print(\"Training accuracy:\", train_accuracy)\n",
    "print(\"Testing accuracy:\", test_accuracy)\n",
    "\n",
    "# Plot the distribution of true vs. predicted target values for training set\n",
    "plt.figure(figsize=(12, 6))\n",
    "plt.subplot(1, 2, 1)\n",
    "sns.histplot(y_train, color='blue', label='True Values', kde=True, stat=\"density\", element=\"step\")\n",
    "sns.histplot(y_train_pred, color='orange', label='Predicted Values', kde=True, stat=\"density\", element=\"step\")\n",
    "plt.title('Training Set: Distribution of True vs. Predicted Values')\n",
    "plt.xlabel('Target Variable')\n",
    "plt.legend()\n",
    "\n",
    "# Plot the distribution of true vs. predicted target values for test set\n",
    "plt.subplot(1, 2, 2)\n",
    "sns.histplot(y_test, color='blue', label='True Values', kde=True, stat=\"density\", element=\"step\")\n",
    "sns.histplot(y_test_pred, color='orange', label='Predicted Values', kde=True, stat=\"density\", element=\"step\")\n",
    "plt.title('Test Set: Distribution of True vs. Predicted Values')\n",
    "plt.xlabel('Target Variable')\n",
    "plt.legend()\n",
    "\n",
    "plt.tight_layout()\n",
    "plt.show()\n"
   ]
  }
 ],
 "metadata": {
  "colab": {
   "provenance": []
  },
  "kernelspec": {
   "display_name": "Python 3",
   "language": "python",
   "name": "python3"
  },
  "language_info": {
   "codemirror_mode": {
    "name": "ipython",
    "version": 3
   },
   "file_extension": ".py",
   "mimetype": "text/x-python",
   "name": "python",
   "nbconvert_exporter": "python",
   "pygments_lexer": "ipython3",
   "version": "3.9.6"
  }
 },
 "nbformat": 4,
 "nbformat_minor": 5
}
